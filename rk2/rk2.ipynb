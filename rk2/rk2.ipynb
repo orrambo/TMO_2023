{
 "cells": [
  {
   "cell_type": "markdown",
   "id": "7498cc2a",
   "metadata": {},
   "source": [
    "# РК №2\n",
    "\n",
    "### Милевич Артём Андреевич ИУ5-62Б\n",
    "### Вариант 13"
   ]
  },
  {
   "cell_type": "raw",
   "id": "9ed381c3",
   "metadata": {},
   "source": [
    "Задание. Для заданного набора данных (вариант 13) постройте модели классификации. Для построения моделей используйте методы опорных векторов и случайный лес. Оцените качество моделей на основе подходящих метрик качества (не менее двух метрик). Какие метрики качества Вы использовали и почему? Какие выводы Вы можете сделать о качестве построенных моделей? Для построения моделей необходимо выполнить требуемую предобработку данных: заполнение пропусков, кодирование категориальных признаков, и т.д.\n",
    "\n",
    "Набор данных: https://www.kaggle.com/fivethirtyeight/fivethirtyeight-comic-characters-dataset (файл marvel-wikia-data.csv)"
   ]
  },
  {
   "cell_type": "code",
   "execution_count": 1,
   "id": "4c5a5607",
   "metadata": {},
   "outputs": [],
   "source": [
    "#импортируем нужные библиотеки\n",
    "import numpy as np\n",
    "import pandas as pd\n",
    "import matplotlib.pyplot as plt\n",
    "import math\n",
    "import seaborn as sns\n",
    "import scipy\n",
    "import plotly\n",
    "import missingno as msno\n",
    "from numpy import nan\n",
    "from sklearn.impute import SimpleImputer, MissingIndicator\n",
    "from sklearn.model_selection import train_test_split\n",
    "from sklearn.metrics import mean_absolute_error, mean_squared_error, median_absolute_error, r2_score \n",
    "from sklearn.linear_model import LinearRegression\n",
    "from sklearn.ensemble import RandomForestRegressor\n",
    "from sklearn.compose import ColumnTransformer\n",
    "from sklearn.preprocessing import OneHotEncoder\n",
    "from sklearn.preprocessing import LabelEncoder\n",
    "from sklearn.svm import SVC\n",
    "from sklearn.metrics import accuracy_score\n",
    "from sklearn.ensemble import RandomForestClassifier\n",
    "import warnings\n",
    "warnings.filterwarnings('ignore')"
   ]
  },
  {
   "cell_type": "markdown",
   "id": "dd1b40eb",
   "metadata": {},
   "source": [
    "### Загрузим набор данных и выведем информацию о нем."
   ]
  },
  {
   "cell_type": "code",
   "execution_count": 2,
   "id": "2a4f0cfe",
   "metadata": {},
   "outputs": [],
   "source": [
    "dataset = pd.read_csv('marvel-wikia-data.csv')"
   ]
  },
  {
   "cell_type": "code",
   "execution_count": 3,
   "id": "e4f53dec",
   "metadata": {},
   "outputs": [
    {
     "data": {
      "text/html": [
       "<div>\n",
       "<style scoped>\n",
       "    .dataframe tbody tr th:only-of-type {\n",
       "        vertical-align: middle;\n",
       "    }\n",
       "\n",
       "    .dataframe tbody tr th {\n",
       "        vertical-align: top;\n",
       "    }\n",
       "\n",
       "    .dataframe thead th {\n",
       "        text-align: right;\n",
       "    }\n",
       "</style>\n",
       "<table border=\"1\" class=\"dataframe\">\n",
       "  <thead>\n",
       "    <tr style=\"text-align: right;\">\n",
       "      <th></th>\n",
       "      <th>page_id</th>\n",
       "      <th>name</th>\n",
       "      <th>urlslug</th>\n",
       "      <th>ID</th>\n",
       "      <th>ALIGN</th>\n",
       "      <th>EYE</th>\n",
       "      <th>HAIR</th>\n",
       "      <th>SEX</th>\n",
       "      <th>GSM</th>\n",
       "      <th>ALIVE</th>\n",
       "      <th>APPEARANCES</th>\n",
       "      <th>FIRST APPEARANCE</th>\n",
       "      <th>Year</th>\n",
       "    </tr>\n",
       "  </thead>\n",
       "  <tbody>\n",
       "    <tr>\n",
       "      <th>0</th>\n",
       "      <td>1678</td>\n",
       "      <td>Spider-Man (Peter Parker)</td>\n",
       "      <td>\\/Spider-Man_(Peter_Parker)</td>\n",
       "      <td>Secret Identity</td>\n",
       "      <td>Good Characters</td>\n",
       "      <td>Hazel Eyes</td>\n",
       "      <td>Brown Hair</td>\n",
       "      <td>Male Characters</td>\n",
       "      <td>NaN</td>\n",
       "      <td>Living Characters</td>\n",
       "      <td>4043.0</td>\n",
       "      <td>Aug-62</td>\n",
       "      <td>1962.0</td>\n",
       "    </tr>\n",
       "    <tr>\n",
       "      <th>1</th>\n",
       "      <td>7139</td>\n",
       "      <td>Captain America (Steven Rogers)</td>\n",
       "      <td>\\/Captain_America_(Steven_Rogers)</td>\n",
       "      <td>Public Identity</td>\n",
       "      <td>Good Characters</td>\n",
       "      <td>Blue Eyes</td>\n",
       "      <td>White Hair</td>\n",
       "      <td>Male Characters</td>\n",
       "      <td>NaN</td>\n",
       "      <td>Living Characters</td>\n",
       "      <td>3360.0</td>\n",
       "      <td>Mar-41</td>\n",
       "      <td>1941.0</td>\n",
       "    </tr>\n",
       "    <tr>\n",
       "      <th>2</th>\n",
       "      <td>64786</td>\n",
       "      <td>Wolverine (James \\\"Logan\\\" Howlett)</td>\n",
       "      <td>\\/Wolverine_(James_%22Logan%22_Howlett)</td>\n",
       "      <td>Public Identity</td>\n",
       "      <td>Neutral Characters</td>\n",
       "      <td>Blue Eyes</td>\n",
       "      <td>Black Hair</td>\n",
       "      <td>Male Characters</td>\n",
       "      <td>NaN</td>\n",
       "      <td>Living Characters</td>\n",
       "      <td>3061.0</td>\n",
       "      <td>Oct-74</td>\n",
       "      <td>1974.0</td>\n",
       "    </tr>\n",
       "    <tr>\n",
       "      <th>3</th>\n",
       "      <td>1868</td>\n",
       "      <td>Iron Man (Anthony \\\"Tony\\\" Stark)</td>\n",
       "      <td>\\/Iron_Man_(Anthony_%22Tony%22_Stark)</td>\n",
       "      <td>Public Identity</td>\n",
       "      <td>Good Characters</td>\n",
       "      <td>Blue Eyes</td>\n",
       "      <td>Black Hair</td>\n",
       "      <td>Male Characters</td>\n",
       "      <td>NaN</td>\n",
       "      <td>Living Characters</td>\n",
       "      <td>2961.0</td>\n",
       "      <td>Mar-63</td>\n",
       "      <td>1963.0</td>\n",
       "    </tr>\n",
       "    <tr>\n",
       "      <th>4</th>\n",
       "      <td>2460</td>\n",
       "      <td>Thor (Thor Odinson)</td>\n",
       "      <td>\\/Thor_(Thor_Odinson)</td>\n",
       "      <td>No Dual Identity</td>\n",
       "      <td>Good Characters</td>\n",
       "      <td>Blue Eyes</td>\n",
       "      <td>Blond Hair</td>\n",
       "      <td>Male Characters</td>\n",
       "      <td>NaN</td>\n",
       "      <td>Living Characters</td>\n",
       "      <td>2258.0</td>\n",
       "      <td>Nov-50</td>\n",
       "      <td>1950.0</td>\n",
       "    </tr>\n",
       "  </tbody>\n",
       "</table>\n",
       "</div>"
      ],
      "text/plain": [
       "   page_id                                 name   \n",
       "0     1678            Spider-Man (Peter Parker)  \\\n",
       "1     7139      Captain America (Steven Rogers)   \n",
       "2    64786  Wolverine (James \\\"Logan\\\" Howlett)   \n",
       "3     1868    Iron Man (Anthony \\\"Tony\\\" Stark)   \n",
       "4     2460                  Thor (Thor Odinson)   \n",
       "\n",
       "                                   urlslug                ID   \n",
       "0              \\/Spider-Man_(Peter_Parker)   Secret Identity  \\\n",
       "1        \\/Captain_America_(Steven_Rogers)   Public Identity   \n",
       "2  \\/Wolverine_(James_%22Logan%22_Howlett)   Public Identity   \n",
       "3    \\/Iron_Man_(Anthony_%22Tony%22_Stark)   Public Identity   \n",
       "4                    \\/Thor_(Thor_Odinson)  No Dual Identity   \n",
       "\n",
       "                ALIGN         EYE        HAIR              SEX  GSM   \n",
       "0     Good Characters  Hazel Eyes  Brown Hair  Male Characters  NaN  \\\n",
       "1     Good Characters   Blue Eyes  White Hair  Male Characters  NaN   \n",
       "2  Neutral Characters   Blue Eyes  Black Hair  Male Characters  NaN   \n",
       "3     Good Characters   Blue Eyes  Black Hair  Male Characters  NaN   \n",
       "4     Good Characters   Blue Eyes  Blond Hair  Male Characters  NaN   \n",
       "\n",
       "               ALIVE  APPEARANCES FIRST APPEARANCE    Year  \n",
       "0  Living Characters       4043.0           Aug-62  1962.0  \n",
       "1  Living Characters       3360.0           Mar-41  1941.0  \n",
       "2  Living Characters       3061.0           Oct-74  1974.0  \n",
       "3  Living Characters       2961.0           Mar-63  1963.0  \n",
       "4  Living Characters       2258.0           Nov-50  1950.0  "
      ]
     },
     "execution_count": 3,
     "metadata": {},
     "output_type": "execute_result"
    }
   ],
   "source": [
    "dataset.head(5)"
   ]
  },
  {
   "cell_type": "code",
   "execution_count": 4,
   "id": "6fed9013",
   "metadata": {},
   "outputs": [
    {
     "name": "stdout",
     "output_type": "stream",
     "text": [
      "<class 'pandas.core.frame.DataFrame'>\n",
      "RangeIndex: 16376 entries, 0 to 16375\n",
      "Data columns (total 13 columns):\n",
      " #   Column            Non-Null Count  Dtype  \n",
      "---  ------            --------------  -----  \n",
      " 0   page_id           16376 non-null  int64  \n",
      " 1   name              16376 non-null  object \n",
      " 2   urlslug           16376 non-null  object \n",
      " 3   ID                12606 non-null  object \n",
      " 4   ALIGN             13564 non-null  object \n",
      " 5   EYE               6609 non-null   object \n",
      " 6   HAIR              12112 non-null  object \n",
      " 7   SEX               15522 non-null  object \n",
      " 8   GSM               90 non-null     object \n",
      " 9   ALIVE             16373 non-null  object \n",
      " 10  APPEARANCES       15280 non-null  float64\n",
      " 11  FIRST APPEARANCE  15561 non-null  object \n",
      " 12  Year              15561 non-null  float64\n",
      "dtypes: float64(2), int64(1), object(10)\n",
      "memory usage: 1.6+ MB\n"
     ]
    }
   ],
   "source": [
    "dataset.info()"
   ]
  },
  {
   "cell_type": "markdown",
   "id": "d48eb037",
   "metadata": {},
   "source": [
    "### Подсчитаем количество и процент пропусков по столбцам."
   ]
  },
  {
   "cell_type": "code",
   "execution_count": 5,
   "id": "c13b59e3",
   "metadata": {},
   "outputs": [
    {
     "name": "stdout",
     "output_type": "stream",
     "text": [
      "page_id: 0 - 0.0%\n",
      "name: 0 - 0.0%\n",
      "urlslug: 0 - 0.0%\n",
      "ID: 3770 - 23.02%\n",
      "ALIGN: 2812 - 17.17%\n",
      "EYE: 9767 - 59.64%\n",
      "HAIR: 4264 - 26.04%\n",
      "SEX: 854 - 5.21%\n",
      "GSM: 16286 - 99.45%\n",
      "ALIVE: 3 - 0.02%\n",
      "APPEARANCES: 1096 - 6.69%\n",
      "FIRST APPEARANCE: 815 - 4.98%\n",
      "Year: 815 - 4.98%\n"
     ]
    }
   ],
   "source": [
    "for col in dataset.columns:\n",
    "    pct_missing = np.mean(dataset[col].isnull())\n",
    "    print('{}: {} - {}%'.format(col, dataset[col].isna().sum(), round(pct_missing*100, 2)))"
   ]
  },
  {
   "cell_type": "markdown",
   "id": "3682a78d",
   "metadata": {},
   "source": [
    "### Обработка пропусков.\n",
    "Столбец GSM невозможно восстановить из-за слишком большого процента пропусков, также он практически не влияет на определение признака при обучении модели, как и поле 'page_id', которое является первичным ключем, поэтому данные столбцы мы удалим."
   ]
  },
  {
   "cell_type": "code",
   "execution_count": 6,
   "id": "5754ed03",
   "metadata": {
    "scrolled": true
   },
   "outputs": [],
   "source": [
    "dataset.drop(['GSM'], axis=1, inplace=True)\n",
    "dataset.drop(['page_id'], axis=1, inplace=True)"
   ]
  },
  {
   "cell_type": "markdown",
   "id": "565241ec",
   "metadata": {},
   "source": [
    "Условия задачи позволяют сократить набор данных, поэтому лучшим решением будет оставить те данные, у которых одновременно присутствуют поля: 'EYE', 'ID', 'ALIGN', 'HAIR', 'SEX', 'FIRST APPEARANCE'. \n",
    "\n",
    "В данном случае не получится заполнить чем-то данные поля (например наиболее часто встречающимся значением), т.к. это не статистические данные, а категориальные признаки, которые сильно влияют на шанс ошибки у модели.\n",
    "\n",
    "Данные действия помогут минимизировать ошибки и улучшить качество данных для обучения модели."
   ]
  },
  {
   "cell_type": "code",
   "execution_count": 7,
   "id": "14b83874",
   "metadata": {},
   "outputs": [],
   "source": [
    "dataset.dropna(subset=['EYE', 'ID', 'ALIGN', 'HAIR', 'SEX', 'FIRST APPEARANCE'], axis=0, inplace=True)"
   ]
  },
  {
   "cell_type": "code",
   "execution_count": 8,
   "id": "479dca4b",
   "metadata": {},
   "outputs": [
    {
     "name": "stdout",
     "output_type": "stream",
     "text": [
      "APPEARANCES: 193 - 4.2%\n"
     ]
    }
   ],
   "source": [
    "for col in dataset.columns:\n",
    "    pct_missing = np.mean(dataset[col].isnull())\n",
    "    if pct_missing > 0:\n",
    "        print('{}: {} - {}%'.format(col, dataset[col].isna().sum(), round(pct_missing*100, 2)))"
   ]
  },
  {
   "cell_type": "markdown",
   "id": "24a124b2",
   "metadata": {},
   "source": [
    "Оставшееся поле 'APPEARANCES' является количественным признаком, поэтому его можно заполнить наиболее часто встречающимся значением."
   ]
  },
  {
   "cell_type": "code",
   "execution_count": 9,
   "id": "e3988bfc",
   "metadata": {},
   "outputs": [],
   "source": [
    "imputer = SimpleImputer(strategy='most_frequent', missing_values=nan)\n",
    "imputer = imputer.fit(dataset[['APPEARANCES']])\n",
    "dataset['APPEARANCES'] = imputer.transform(dataset[['APPEARANCES']])"
   ]
  },
  {
   "cell_type": "code",
   "execution_count": 10,
   "id": "f23584e1",
   "metadata": {},
   "outputs": [
    {
     "data": {
      "text/plain": [
       "name                0\n",
       "urlslug             0\n",
       "ID                  0\n",
       "ALIGN               0\n",
       "EYE                 0\n",
       "HAIR                0\n",
       "SEX                 0\n",
       "ALIVE               0\n",
       "APPEARANCES         0\n",
       "FIRST APPEARANCE    0\n",
       "Year                0\n",
       "dtype: int64"
      ]
     },
     "execution_count": 10,
     "metadata": {},
     "output_type": "execute_result"
    }
   ],
   "source": [
    "dataset.isna().sum()"
   ]
  },
  {
   "cell_type": "code",
   "execution_count": 11,
   "id": "72230d05",
   "metadata": {},
   "outputs": [
    {
     "data": {
      "text/plain": [
       "(4595, 11)"
      ]
     },
     "execution_count": 11,
     "metadata": {},
     "output_type": "execute_result"
    }
   ],
   "source": [
    "dataset.shape"
   ]
  },
  {
   "cell_type": "markdown",
   "id": "6c93c974",
   "metadata": {},
   "source": [
    "### Кодирование признаков и разделение выборки.\n",
    "В качестве целевого признака возьмем столбец 'name'. Закодируем все не числовые столбцы в числовые, при помощи LabelEncoder."
   ]
  },
  {
   "cell_type": "code",
   "execution_count": 12,
   "id": "573b3443",
   "metadata": {},
   "outputs": [],
   "source": [
    "le = LabelEncoder()\n",
    "dataset['name']= le.fit_transform(dataset['name'])\n",
    "dataset['urlslug']= le.fit_transform(dataset['urlslug'])\n",
    "dataset['ID']= le.fit_transform(dataset['ID'])\n",
    "dataset['ALIGN']= le.fit_transform(dataset['ALIGN'])\n",
    "dataset['EYE']= le.fit_transform(dataset['EYE'])\n",
    "dataset['HAIR']= le.fit_transform(dataset['HAIR'])\n",
    "dataset['SEX']= le.fit_transform(dataset['SEX'])\n",
    "dataset['ALIVE']= le.fit_transform(dataset['ALIVE'])\n",
    "dataset['FIRST APPEARANCE']= le.fit_transform(dataset['FIRST APPEARANCE'])"
   ]
  },
  {
   "cell_type": "code",
   "execution_count": 13,
   "id": "064afbca",
   "metadata": {},
   "outputs": [],
   "source": [
    "X = dataset.drop(columns=\"name\")\n",
    "y = dataset[\"name\"]"
   ]
  },
  {
   "cell_type": "markdown",
   "id": "da0ac3c0",
   "metadata": {},
   "source": [
    "### Обучение модели методом опорных векторов и оценка её качества.\n",
    "В качестве метрик возьмём:\n",
    "1) mean_squared_error - чтобы подчеркнуть ошибки\n",
    "2) median_absolute_error - чтобы оценить качество модели с устойчивостью к выбросам\n",
    "3) r2_score - чтобы точно и наглядно интерпретировать качество модели"
   ]
  },
  {
   "cell_type": "code",
   "execution_count": 14,
   "id": "3f928534",
   "metadata": {},
   "outputs": [],
   "source": [
    "# Разделение данных на обучающую и тестовую выборки\n",
    "X_train, X_test, y_train, y_test = train_test_split(X, y, test_size=0.2, random_state=42)\n",
    "\n",
    "# Создание модели SVM\n",
    "svm_model = SVC(kernel='linear')\n",
    "\n",
    "# Обучение модели\n",
    "svm_model.fit(X_train, y_train)\n",
    "\n",
    "# Прогнозирование классов для тестовых данных\n",
    "y_pred = svm_model.predict(X_test)"
   ]
  },
  {
   "cell_type": "code",
   "execution_count": 15,
   "id": "02aeab43",
   "metadata": {},
   "outputs": [],
   "source": [
    "# Оценка точности модели\n",
    "mse_svc = mean_squared_error(y_test, y_pred)\n",
    "med_svc = median_absolute_error(y_test, y_pred)\n",
    "r2_svc = r2_score(y_test, y_pred)"
   ]
  },
  {
   "cell_type": "markdown",
   "id": "178de415",
   "metadata": {},
   "source": [
    "### Обучение модели случайного леса и оценка её качества.\n",
    "Метрики аналогичные."
   ]
  },
  {
   "cell_type": "code",
   "execution_count": 16,
   "id": "a45c1ec1",
   "metadata": {},
   "outputs": [],
   "source": [
    "# Разделение данных на обучающую и тестовую выборки\n",
    "X_train, X_test, y_train, y_test = train_test_split(X, y, test_size=0.2, random_state=42)\n",
    "\n",
    "# Создание модели случайного леса\n",
    "cf_model = RandomForestClassifier(n_estimators=100)\n",
    "\n",
    "# Обучение модели\n",
    "cf_model.fit(X_train, y_train)\n",
    "\n",
    "# Прогнозирование классов для тестовых данных\n",
    "y_pred = cf_model.predict(X_test)"
   ]
  },
  {
   "cell_type": "code",
   "execution_count": 17,
   "id": "97c296b2",
   "metadata": {},
   "outputs": [],
   "source": [
    "# Оценка точности модели\n",
    "mse_cf = mean_squared_error(y_test, y_pred)\n",
    "med_cf = median_absolute_error(y_test, y_pred)\n",
    "r2_cf = r2_score(y_test, y_pred)"
   ]
  },
  {
   "cell_type": "markdown",
   "id": "8e45acd7",
   "metadata": {},
   "source": [
    "### Сравним качество 2-ух моделей."
   ]
  },
  {
   "cell_type": "code",
   "execution_count": 18,
   "id": "1c1b42b8",
   "metadata": {},
   "outputs": [
    {
     "name": "stdout",
     "output_type": "stream",
     "text": [
      "---------------------------- mean_squared_error ---------------------------\n",
      "SVM:           849.6050054406965\n",
      "RandomForest:  869876.2916213275\n",
      "--------------------------- median_absolute_error -------------------------\n",
      "SVM:           13.0\n",
      "RandomForest:  374.0\n",
      "--------------------------------- r2_score ----------------------------\n",
      "SVM:           0.9995162959402933\n",
      "RandomForest:  0.5047549261064876\n"
     ]
    }
   ],
   "source": [
    "print('---------------------------- mean_squared_error ---------------------------')\n",
    "print('SVM:          ', mse_svc)\n",
    "print('RandomForest: ', mse_cf)\n",
    "print('--------------------------- median_absolute_error -------------------------')\n",
    "print('SVM:          ', med_svc)\n",
    "print('RandomForest: ', med_cf)\n",
    "print('--------------------------------- r2_score ----------------------------')\n",
    "print('SVM:          ', r2_svc)\n",
    "print('RandomForest: ', r2_cf)"
   ]
  },
  {
   "cell_type": "markdown",
   "id": "9fba3858",
   "metadata": {},
   "source": [
    "### Вывод.\n",
    "   Метод опорных векторов (Support Vector Machine, SVM) и случайный лес (Random Forest) являются двумя популярными методами машинного обучения, используемыми для задач классификации и регрессии. Оба метода имеют свои особенности и преимущества.\n",
    "\n",
    "   Модеᴫь по методу опорных векторов поᴫучиᴫась очень точной, что показывает практически единичный коэффициент детерминации.\n",
    "    \n",
    "   Модеᴫь опорных векторов оказаᴫась боᴫее устойчивой к выбросам в данных, что показывает большая разница в метрике mean_squared_error, а также в 10 раз точнее модеᴫи случайного леса, что также показывает метрика median_absolute_error.\n",
    "    \n",
    "   Такой высокой точности в методе опорных векторов удаᴫось добиться из‑за сиᴫьной корреᴫяции в признаках выборки, а также из‑за относительно маᴫого объёма выборки. В свою очередь точность метода случайного леса получилась не такой большой, так как каждое дерево обучается независимо на случайной подвыборке данных и случайном подмножестве признаков, что могло привести к полученным результатам."
   ]
  }
 ],
 "metadata": {
  "kernelspec": {
   "display_name": "Python 3 (ipykernel)",
   "language": "python",
   "name": "python3"
  },
  "language_info": {
   "codemirror_mode": {
    "name": "ipython",
    "version": 3
   },
   "file_extension": ".py",
   "mimetype": "text/x-python",
   "name": "python",
   "nbconvert_exporter": "python",
   "pygments_lexer": "ipython3",
   "version": "3.9.13"
  }
 },
 "nbformat": 4,
 "nbformat_minor": 5
}
