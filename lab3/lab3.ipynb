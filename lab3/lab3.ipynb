{
 "cells": [
  {
   "cell_type": "code",
   "execution_count": 26,
   "id": "9d5f4b0e",
   "metadata": {},
   "outputs": [],
   "source": [
    "import numpy as np\n",
    "import pandas as pd\n",
    "from sklearn.datasets import * \n",
    "import seaborn as sns\n",
    "import matplotlib.pyplot as plt\n",
    "%matplotlib inline\n",
    "sns.set(style =\"ticks\")\n",
    "\n",
    "\n",
    "from sklearn.metrics import mean_absolute_error, mean_squared_error, median_absolute_error, r2_score\n",
    "from sklearn.preprocessing import MinMaxScaler\n",
    "from sklearn.neighbors import KNeighborsRegressor, KNeighborsClassifier\n",
    "from sklearn.model_selection import train_test_split, GridSearchCV\n",
    "from sklearn.impute import SimpleImputer, MissingIndicator\n",
    "from sklearn.preprocessing import LabelEncoder, OneHotEncoder, MinMaxScaler, StandardScaler, Normalizer"
   ]
  },
  {
   "cell_type": "code",
   "execution_count": 27,
   "id": "4b6303d9",
   "metadata": {},
   "outputs": [],
   "source": [
    "df = pd.read_csv('nhldraft.csv')"
   ]
  },
  {
   "cell_type": "code",
   "execution_count": 28,
   "id": "79b429a4",
   "metadata": {},
   "outputs": [
    {
     "data": {
      "text/html": [
       "<div>\n",
       "<style scoped>\n",
       "    .dataframe tbody tr th:only-of-type {\n",
       "        vertical-align: middle;\n",
       "    }\n",
       "\n",
       "    .dataframe tbody tr th {\n",
       "        vertical-align: top;\n",
       "    }\n",
       "\n",
       "    .dataframe thead th {\n",
       "        text-align: right;\n",
       "    }\n",
       "</style>\n",
       "<table border=\"1\" class=\"dataframe\">\n",
       "  <thead>\n",
       "    <tr style=\"text-align: right;\">\n",
       "      <th></th>\n",
       "      <th>id</th>\n",
       "      <th>year</th>\n",
       "      <th>overall_pick</th>\n",
       "      <th>team</th>\n",
       "      <th>player</th>\n",
       "      <th>nationality</th>\n",
       "      <th>position</th>\n",
       "      <th>age</th>\n",
       "      <th>to_year</th>\n",
       "      <th>amateur_team</th>\n",
       "      <th>...</th>\n",
       "      <th>points</th>\n",
       "      <th>plus_minus</th>\n",
       "      <th>penalties_minutes</th>\n",
       "      <th>goalie_games_played</th>\n",
       "      <th>goalie_wins</th>\n",
       "      <th>goalie_losses</th>\n",
       "      <th>goalie_ties_overtime</th>\n",
       "      <th>save_percentage</th>\n",
       "      <th>goals_against_average</th>\n",
       "      <th>point_shares</th>\n",
       "    </tr>\n",
       "  </thead>\n",
       "  <tbody>\n",
       "    <tr>\n",
       "      <th>0</th>\n",
       "      <td>1</td>\n",
       "      <td>2022</td>\n",
       "      <td>1</td>\n",
       "      <td>Montreal Canadiens</td>\n",
       "      <td>Juraj Slafkovsky</td>\n",
       "      <td>SK</td>\n",
       "      <td>LW</td>\n",
       "      <td>18.0</td>\n",
       "      <td>NaN</td>\n",
       "      <td>TPS (Finland)</td>\n",
       "      <td>...</td>\n",
       "      <td>NaN</td>\n",
       "      <td>NaN</td>\n",
       "      <td>NaN</td>\n",
       "      <td>NaN</td>\n",
       "      <td>NaN</td>\n",
       "      <td>NaN</td>\n",
       "      <td>NaN</td>\n",
       "      <td>NaN</td>\n",
       "      <td>NaN</td>\n",
       "      <td>NaN</td>\n",
       "    </tr>\n",
       "    <tr>\n",
       "      <th>1</th>\n",
       "      <td>2</td>\n",
       "      <td>2022</td>\n",
       "      <td>2</td>\n",
       "      <td>New Jersey Devils</td>\n",
       "      <td>Simon Nemec</td>\n",
       "      <td>SK</td>\n",
       "      <td>D</td>\n",
       "      <td>18.0</td>\n",
       "      <td>NaN</td>\n",
       "      <td>HK Nitra (Slovakia)</td>\n",
       "      <td>...</td>\n",
       "      <td>NaN</td>\n",
       "      <td>NaN</td>\n",
       "      <td>NaN</td>\n",
       "      <td>NaN</td>\n",
       "      <td>NaN</td>\n",
       "      <td>NaN</td>\n",
       "      <td>NaN</td>\n",
       "      <td>NaN</td>\n",
       "      <td>NaN</td>\n",
       "      <td>NaN</td>\n",
       "    </tr>\n",
       "    <tr>\n",
       "      <th>2</th>\n",
       "      <td>3</td>\n",
       "      <td>2022</td>\n",
       "      <td>3</td>\n",
       "      <td>Arizona Coyotes</td>\n",
       "      <td>Logan Cooley</td>\n",
       "      <td>US</td>\n",
       "      <td>C</td>\n",
       "      <td>18.0</td>\n",
       "      <td>NaN</td>\n",
       "      <td>USA U-18 Development Team (USDP/USHL)</td>\n",
       "      <td>...</td>\n",
       "      <td>NaN</td>\n",
       "      <td>NaN</td>\n",
       "      <td>NaN</td>\n",
       "      <td>NaN</td>\n",
       "      <td>NaN</td>\n",
       "      <td>NaN</td>\n",
       "      <td>NaN</td>\n",
       "      <td>NaN</td>\n",
       "      <td>NaN</td>\n",
       "      <td>NaN</td>\n",
       "    </tr>\n",
       "    <tr>\n",
       "      <th>3</th>\n",
       "      <td>4</td>\n",
       "      <td>2022</td>\n",
       "      <td>4</td>\n",
       "      <td>Seattle Kraken</td>\n",
       "      <td>Shane Wright</td>\n",
       "      <td>CA</td>\n",
       "      <td>C</td>\n",
       "      <td>18.0</td>\n",
       "      <td>NaN</td>\n",
       "      <td>Kingston Frontenacs (OHL)</td>\n",
       "      <td>...</td>\n",
       "      <td>NaN</td>\n",
       "      <td>NaN</td>\n",
       "      <td>NaN</td>\n",
       "      <td>NaN</td>\n",
       "      <td>NaN</td>\n",
       "      <td>NaN</td>\n",
       "      <td>NaN</td>\n",
       "      <td>NaN</td>\n",
       "      <td>NaN</td>\n",
       "      <td>NaN</td>\n",
       "    </tr>\n",
       "    <tr>\n",
       "      <th>4</th>\n",
       "      <td>5</td>\n",
       "      <td>2022</td>\n",
       "      <td>5</td>\n",
       "      <td>Philadelphia Flyers</td>\n",
       "      <td>Cutter Gauthier</td>\n",
       "      <td>SE</td>\n",
       "      <td>LW</td>\n",
       "      <td>18.0</td>\n",
       "      <td>NaN</td>\n",
       "      <td>USA U-18 Development Team (USDP/USHL)</td>\n",
       "      <td>...</td>\n",
       "      <td>NaN</td>\n",
       "      <td>NaN</td>\n",
       "      <td>NaN</td>\n",
       "      <td>NaN</td>\n",
       "      <td>NaN</td>\n",
       "      <td>NaN</td>\n",
       "      <td>NaN</td>\n",
       "      <td>NaN</td>\n",
       "      <td>NaN</td>\n",
       "      <td>NaN</td>\n",
       "    </tr>\n",
       "  </tbody>\n",
       "</table>\n",
       "<p>5 rows × 23 columns</p>\n",
       "</div>"
      ],
      "text/plain": [
       "   id  year  overall_pick                 team            player nationality  \\\n",
       "0   1  2022             1   Montreal Canadiens  Juraj Slafkovsky          SK   \n",
       "1   2  2022             2    New Jersey Devils       Simon Nemec          SK   \n",
       "2   3  2022             3      Arizona Coyotes      Logan Cooley          US   \n",
       "3   4  2022             4       Seattle Kraken      Shane Wright          CA   \n",
       "4   5  2022             5  Philadelphia Flyers   Cutter Gauthier          SE   \n",
       "\n",
       "  position   age  to_year                           amateur_team  ...  points  \\\n",
       "0       LW  18.0      NaN                          TPS (Finland)  ...     NaN   \n",
       "1        D  18.0      NaN                    HK Nitra (Slovakia)  ...     NaN   \n",
       "2        C  18.0      NaN  USA U-18 Development Team (USDP/USHL)  ...     NaN   \n",
       "3        C  18.0      NaN              Kingston Frontenacs (OHL)  ...     NaN   \n",
       "4       LW  18.0      NaN  USA U-18 Development Team (USDP/USHL)  ...     NaN   \n",
       "\n",
       "   plus_minus  penalties_minutes  goalie_games_played  goalie_wins  \\\n",
       "0         NaN                NaN                  NaN          NaN   \n",
       "1         NaN                NaN                  NaN          NaN   \n",
       "2         NaN                NaN                  NaN          NaN   \n",
       "3         NaN                NaN                  NaN          NaN   \n",
       "4         NaN                NaN                  NaN          NaN   \n",
       "\n",
       "   goalie_losses  goalie_ties_overtime  save_percentage  \\\n",
       "0            NaN                   NaN              NaN   \n",
       "1            NaN                   NaN              NaN   \n",
       "2            NaN                   NaN              NaN   \n",
       "3            NaN                   NaN              NaN   \n",
       "4            NaN                   NaN              NaN   \n",
       "\n",
       "   goals_against_average  point_shares  \n",
       "0                    NaN           NaN  \n",
       "1                    NaN           NaN  \n",
       "2                    NaN           NaN  \n",
       "3                    NaN           NaN  \n",
       "4                    NaN           NaN  \n",
       "\n",
       "[5 rows x 23 columns]"
      ]
     },
     "execution_count": 28,
     "metadata": {},
     "output_type": "execute_result"
    }
   ],
   "source": [
    "df.head()"
   ]
  },
  {
   "cell_type": "code",
   "execution_count": 29,
   "id": "3bb0d006",
   "metadata": {},
   "outputs": [
    {
     "name": "stdout",
     "output_type": "stream",
     "text": [
      "<class 'pandas.core.frame.DataFrame'>\n",
      "RangeIndex: 12250 entries, 0 to 12249\n",
      "Data columns (total 23 columns):\n",
      " #   Column                 Non-Null Count  Dtype  \n",
      "---  ------                 --------------  -----  \n",
      " 0   id                     12250 non-null  int64  \n",
      " 1   year                   12250 non-null  int64  \n",
      " 2   overall_pick           12250 non-null  int64  \n",
      " 3   team                   12249 non-null  object \n",
      " 4   player                 12250 non-null  object \n",
      " 5   nationality            12246 non-null  object \n",
      " 6   position               12223 non-null  object \n",
      " 7   age                    8291 non-null   float64\n",
      " 8   to_year                5246 non-null   float64\n",
      " 9   amateur_team           12250 non-null  object \n",
      " 10  games_played           5246 non-null   float64\n",
      " 11  goals                  5246 non-null   float64\n",
      " 12  assists                5246 non-null   float64\n",
      " 13  points                 5246 non-null   float64\n",
      " 14  plus_minus             5234 non-null   float64\n",
      " 15  penalties_minutes      5246 non-null   float64\n",
      " 16  goalie_games_played    490 non-null    float64\n",
      " 17  goalie_wins            488 non-null    float64\n",
      " 18  goalie_losses          488 non-null    float64\n",
      " 19  goalie_ties_overtime   488 non-null    float64\n",
      " 20  save_percentage        488 non-null    float64\n",
      " 21  goals_against_average  490 non-null    float64\n",
      " 22  point_shares           5246 non-null   float64\n",
      "dtypes: float64(15), int64(3), object(5)\n",
      "memory usage: 2.1+ MB\n"
     ]
    }
   ],
   "source": [
    "df.info()"
   ]
  },
  {
   "cell_type": "code",
   "execution_count": 30,
   "id": "5001eac4",
   "metadata": {},
   "outputs": [
    {
     "name": "stdout",
     "output_type": "stream",
     "text": [
      "<class 'pandas.core.frame.DataFrame'>\n",
      "RangeIndex: 12250 entries, 0 to 12249\n",
      "Data columns (total 22 columns):\n",
      " #   Column                 Non-Null Count  Dtype  \n",
      "---  ------                 --------------  -----  \n",
      " 0   year                   12250 non-null  int64  \n",
      " 1   overall_pick           12250 non-null  int64  \n",
      " 2   team                   12249 non-null  object \n",
      " 3   player                 12250 non-null  object \n",
      " 4   nationality            12246 non-null  object \n",
      " 5   position               12223 non-null  object \n",
      " 6   age                    8291 non-null   float64\n",
      " 7   to_year                5246 non-null   float64\n",
      " 8   amateur_team           12250 non-null  object \n",
      " 9   games_played           5246 non-null   float64\n",
      " 10  goals                  5246 non-null   float64\n",
      " 11  assists                5246 non-null   float64\n",
      " 12  points                 5246 non-null   float64\n",
      " 13  plus_minus             5234 non-null   float64\n",
      " 14  penalties_minutes      5246 non-null   float64\n",
      " 15  goalie_games_played    490 non-null    float64\n",
      " 16  goalie_wins            488 non-null    float64\n",
      " 17  goalie_losses          488 non-null    float64\n",
      " 18  goalie_ties_overtime   488 non-null    float64\n",
      " 19  save_percentage        488 non-null    float64\n",
      " 20  goals_against_average  490 non-null    float64\n",
      " 21  point_shares           5246 non-null   float64\n",
      "dtypes: float64(15), int64(2), object(5)\n",
      "memory usage: 2.1+ MB\n"
     ]
    }
   ],
   "source": [
    "df.drop(df.columns[[0]],axis = 1, inplace = True)\n",
    "df.info()"
   ]
  },
  {
   "cell_type": "code",
   "execution_count": 31,
   "id": "53442a98",
   "metadata": {},
   "outputs": [
    {
     "name": "stdout",
     "output_type": "stream",
     "text": [
      "<class 'pandas.core.frame.DataFrame'>\n",
      "RangeIndex: 12250 entries, 0 to 12249\n",
      "Data columns (total 13 columns):\n",
      " #   Column        Non-Null Count  Dtype  \n",
      "---  ------        --------------  -----  \n",
      " 0   year          12250 non-null  int64  \n",
      " 1   overall_pick  12250 non-null  int64  \n",
      " 2   team          12249 non-null  object \n",
      " 3   player        12250 non-null  object \n",
      " 4   nationality   12246 non-null  object \n",
      " 5   position      12223 non-null  object \n",
      " 6   age           8291 non-null   float64\n",
      " 7   to_year       5246 non-null   float64\n",
      " 8   amateur_team  12250 non-null  object \n",
      " 9   games_played  5246 non-null   float64\n",
      " 10  goals         5246 non-null   float64\n",
      " 11  assists       5246 non-null   float64\n",
      " 12  points        5246 non-null   float64\n",
      "dtypes: float64(6), int64(2), object(5)\n",
      "memory usage: 1.2+ MB\n"
     ]
    }
   ],
   "source": [
    "df.drop(df.columns[[13]],axis = 1, inplace = True)\n",
    "df.drop(df.columns[[13]],axis = 1, inplace = True)\n",
    "df.drop(df.columns[[13]],axis = 1, inplace = True)\n",
    "df.drop(df.columns[[13]],axis = 1, inplace = True)\n",
    "df.drop(df.columns[[13]],axis = 1, inplace = True)\n",
    "df.drop(df.columns[[13]],axis = 1, inplace = True)\n",
    "df.drop(df.columns[[13]],axis = 1, inplace = True)\n",
    "df.drop(df.columns[[13]],axis = 1, inplace = True)\n",
    "df.drop(df.columns[[13]],axis = 1, inplace = True)\n",
    "df.info()"
   ]
  },
  {
   "cell_type": "code",
   "execution_count": 32,
   "id": "ce7c83ac",
   "metadata": {},
   "outputs": [
    {
     "data": {
      "text/plain": [
       "year            0\n",
       "overall_pick    0\n",
       "team            0\n",
       "player          0\n",
       "nationality     0\n",
       "position        0\n",
       "age             0\n",
       "to_year         0\n",
       "amateur_team    0\n",
       "games_played    0\n",
       "goals           0\n",
       "assists         0\n",
       "points          0\n",
       "dtype: int64"
      ]
     },
     "execution_count": 32,
     "metadata": {},
     "output_type": "execute_result"
    }
   ],
   "source": [
    "df.dropna(subset=['to_year'],inplace = True, axis = 0)\n",
    "df.isna().sum()"
   ]
  },
  {
   "cell_type": "code",
   "execution_count": 33,
   "id": "3e519126",
   "metadata": {},
   "outputs": [
    {
     "data": {
      "text/html": [
       "<div>\n",
       "<style scoped>\n",
       "    .dataframe tbody tr th:only-of-type {\n",
       "        vertical-align: middle;\n",
       "    }\n",
       "\n",
       "    .dataframe tbody tr th {\n",
       "        vertical-align: top;\n",
       "    }\n",
       "\n",
       "    .dataframe thead th {\n",
       "        text-align: right;\n",
       "    }\n",
       "</style>\n",
       "<table border=\"1\" class=\"dataframe\">\n",
       "  <thead>\n",
       "    <tr style=\"text-align: right;\">\n",
       "      <th></th>\n",
       "      <th>year</th>\n",
       "      <th>overall_pick</th>\n",
       "      <th>age</th>\n",
       "      <th>to_year</th>\n",
       "      <th>games_played</th>\n",
       "      <th>goals</th>\n",
       "      <th>assists</th>\n",
       "      <th>points</th>\n",
       "    </tr>\n",
       "  </thead>\n",
       "  <tbody>\n",
       "    <tr>\n",
       "      <th>225</th>\n",
       "      <td>2021</td>\n",
       "      <td>1</td>\n",
       "      <td>18.0</td>\n",
       "      <td>2022.0</td>\n",
       "      <td>8.0</td>\n",
       "      <td>2.0</td>\n",
       "      <td>1.0</td>\n",
       "      <td>3.0</td>\n",
       "    </tr>\n",
       "    <tr>\n",
       "      <th>226</th>\n",
       "      <td>2021</td>\n",
       "      <td>2</td>\n",
       "      <td>18.0</td>\n",
       "      <td>2022.0</td>\n",
       "      <td>10.0</td>\n",
       "      <td>3.0</td>\n",
       "      <td>6.0</td>\n",
       "      <td>9.0</td>\n",
       "    </tr>\n",
       "    <tr>\n",
       "      <th>227</th>\n",
       "      <td>2021</td>\n",
       "      <td>3</td>\n",
       "      <td>18.0</td>\n",
       "      <td>2022.0</td>\n",
       "      <td>9.0</td>\n",
       "      <td>2.0</td>\n",
       "      <td>1.0</td>\n",
       "      <td>3.0</td>\n",
       "    </tr>\n",
       "    <tr>\n",
       "      <th>229</th>\n",
       "      <td>2021</td>\n",
       "      <td>5</td>\n",
       "      <td>18.0</td>\n",
       "      <td>2022.0</td>\n",
       "      <td>9.0</td>\n",
       "      <td>0.0</td>\n",
       "      <td>3.0</td>\n",
       "      <td>3.0</td>\n",
       "    </tr>\n",
       "    <tr>\n",
       "      <th>231</th>\n",
       "      <td>2021</td>\n",
       "      <td>7</td>\n",
       "      <td>18.0</td>\n",
       "      <td>2022.0</td>\n",
       "      <td>9.0</td>\n",
       "      <td>0.0</td>\n",
       "      <td>4.0</td>\n",
       "      <td>4.0</td>\n",
       "    </tr>\n",
       "  </tbody>\n",
       "</table>\n",
       "</div>"
      ],
      "text/plain": [
       "     year  overall_pick   age  to_year  games_played  goals  assists  points\n",
       "225  2021             1  18.0   2022.0           8.0    2.0      1.0     3.0\n",
       "226  2021             2  18.0   2022.0          10.0    3.0      6.0     9.0\n",
       "227  2021             3  18.0   2022.0           9.0    2.0      1.0     3.0\n",
       "229  2021             5  18.0   2022.0           9.0    0.0      3.0     3.0\n",
       "231  2021             7  18.0   2022.0           9.0    0.0      4.0     4.0"
      ]
     },
     "execution_count": 33,
     "metadata": {},
     "output_type": "execute_result"
    }
   ],
   "source": [
    "# удаляем ненужные строки\n",
    "df.drop(['team','player','nationality','position','amateur_team'], axis=1, inplace=True)\n",
    "df.head()"
   ]
  },
  {
   "cell_type": "code",
   "execution_count": 34,
   "id": "d1182b95",
   "metadata": {
    "scrolled": true
   },
   "outputs": [
    {
     "name": "stdout",
     "output_type": "stream",
     "text": [
      "<class 'pandas.core.frame.DataFrame'>\n",
      "Int64Index: 5246 entries, 225 to 12249\n",
      "Data columns (total 8 columns):\n",
      " #   Column        Non-Null Count  Dtype  \n",
      "---  ------        --------------  -----  \n",
      " 0   year          5246 non-null   int64  \n",
      " 1   overall_pick  5246 non-null   int64  \n",
      " 2   age           5246 non-null   float64\n",
      " 3   to_year       5246 non-null   float64\n",
      " 4   games_played  5246 non-null   float64\n",
      " 5   goals         5246 non-null   float64\n",
      " 6   assists       5246 non-null   float64\n",
      " 7   points        5246 non-null   float64\n",
      "dtypes: float64(6), int64(2)\n",
      "memory usage: 368.9 KB\n"
     ]
    }
   ],
   "source": [
    "df.info()"
   ]
  },
  {
   "cell_type": "code",
   "execution_count": 35,
   "id": "150330e8",
   "metadata": {},
   "outputs": [],
   "source": [
    "y = df['age']  #Наименования признаков\n",
    "X = df.drop('age', axis=1) # Значения признаков"
   ]
  },
  {
   "cell_type": "code",
   "execution_count": 36,
   "id": "67a5fc0d",
   "metadata": {},
   "outputs": [],
   "source": [
    "X_train, X_test, y_train, y_test = train_test_split(\n",
    "    X, y, test_size=0.25, random_state= 45)\n",
    "# random_state позволяет задавать базовое значение для генератора случайных чисел, чтобы сделать выборку неслучайной"
   ]
  },
  {
   "cell_type": "code",
   "execution_count": 37,
   "id": "aeb5ca5a",
   "metadata": {},
   "outputs": [
    {
     "data": {
      "text/plain": [
       "((3934, 7), (3934,))"
      ]
     },
     "execution_count": 37,
     "metadata": {},
     "output_type": "execute_result"
    }
   ],
   "source": [
    "# Размер обучающей выборки\n",
    "X_train.shape, y_train.shape"
   ]
  },
  {
   "cell_type": "code",
   "execution_count": 38,
   "id": "77e3f836",
   "metadata": {},
   "outputs": [
    {
     "data": {
      "text/plain": [
       "((1312, 7), (1312,))"
      ]
     },
     "execution_count": 38,
     "metadata": {},
     "output_type": "execute_result"
    }
   ],
   "source": [
    "# Размер тестовой выборки\n",
    "X_test.shape, y_test.shape"
   ]
  },
  {
   "cell_type": "code",
   "execution_count": 39,
   "id": "8c870c7a",
   "metadata": {},
   "outputs": [
    {
     "data": {
      "text/plain": [
       "array([16., 17., 18., 19., 20., 21., 22., 23., 24., 25., 26., 27., 28.,\n",
       "       29., 30., 31.])"
      ]
     },
     "execution_count": 39,
     "metadata": {},
     "output_type": "execute_result"
    }
   ],
   "source": [
    "np.unique(y_train)"
   ]
  },
  {
   "cell_type": "code",
   "execution_count": 40,
   "id": "78382637",
   "metadata": {},
   "outputs": [
    {
     "data": {
      "text/plain": [
       "array([16., 17., 18., 19., 20., 21., 22., 23., 24., 25., 26., 27., 28.,\n",
       "       29., 30., 37.])"
      ]
     },
     "execution_count": 40,
     "metadata": {},
     "output_type": "execute_result"
    }
   ],
   "source": [
    "np.unique(y_test)"
   ]
  },
  {
   "cell_type": "code",
   "execution_count": 41,
   "id": "2b7639fb",
   "metadata": {},
   "outputs": [
    {
     "data": {
      "text/html": [
       "<div>\n",
       "<style scoped>\n",
       "    .dataframe tbody tr th:only-of-type {\n",
       "        vertical-align: middle;\n",
       "    }\n",
       "\n",
       "    .dataframe tbody tr th {\n",
       "        vertical-align: top;\n",
       "    }\n",
       "\n",
       "    .dataframe thead th {\n",
       "        text-align: right;\n",
       "    }\n",
       "</style>\n",
       "<table border=\"1\" class=\"dataframe\">\n",
       "  <thead>\n",
       "    <tr style=\"text-align: right;\">\n",
       "      <th></th>\n",
       "      <th>year</th>\n",
       "      <th>overall_pick</th>\n",
       "      <th>to_year</th>\n",
       "      <th>games_played</th>\n",
       "      <th>goals</th>\n",
       "      <th>assists</th>\n",
       "      <th>points</th>\n",
       "    </tr>\n",
       "  </thead>\n",
       "  <tbody>\n",
       "    <tr>\n",
       "      <th>count</th>\n",
       "      <td>3934.000000</td>\n",
       "      <td>3934.000000</td>\n",
       "      <td>3934.000000</td>\n",
       "      <td>3934.000000</td>\n",
       "      <td>3934.000000</td>\n",
       "      <td>3934.000000</td>\n",
       "      <td>3934.000000</td>\n",
       "    </tr>\n",
       "    <tr>\n",
       "      <th>mean</th>\n",
       "      <td>0.548065</td>\n",
       "      <td>0.285663</td>\n",
       "      <td>0.662598</td>\n",
       "      <td>0.168719</td>\n",
       "      <td>0.063648</td>\n",
       "      <td>0.066781</td>\n",
       "      <td>0.069263</td>\n",
       "    </tr>\n",
       "    <tr>\n",
       "      <th>std</th>\n",
       "      <td>0.241833</td>\n",
       "      <td>0.235094</td>\n",
       "      <td>0.270746</td>\n",
       "      <td>0.193511</td>\n",
       "      <td>0.118556</td>\n",
       "      <td>0.114890</td>\n",
       "      <td>0.119871</td>\n",
       "    </tr>\n",
       "    <tr>\n",
       "      <th>min</th>\n",
       "      <td>0.000000</td>\n",
       "      <td>0.000000</td>\n",
       "      <td>0.000000</td>\n",
       "      <td>0.000000</td>\n",
       "      <td>0.000000</td>\n",
       "      <td>0.000000</td>\n",
       "      <td>0.000000</td>\n",
       "    </tr>\n",
       "    <tr>\n",
       "      <th>25%</th>\n",
       "      <td>0.344828</td>\n",
       "      <td>0.089965</td>\n",
       "      <td>0.452830</td>\n",
       "      <td>0.013498</td>\n",
       "      <td>0.000000</td>\n",
       "      <td>0.001601</td>\n",
       "      <td>0.001562</td>\n",
       "    </tr>\n",
       "    <tr>\n",
       "      <th>50%</th>\n",
       "      <td>0.551724</td>\n",
       "      <td>0.221453</td>\n",
       "      <td>0.698113</td>\n",
       "      <td>0.083240</td>\n",
       "      <td>0.011538</td>\n",
       "      <td>0.014412</td>\n",
       "      <td>0.014576</td>\n",
       "    </tr>\n",
       "    <tr>\n",
       "      <th>75%</th>\n",
       "      <td>0.758621</td>\n",
       "      <td>0.435986</td>\n",
       "      <td>0.919811</td>\n",
       "      <td>0.290636</td>\n",
       "      <td>0.069231</td>\n",
       "      <td>0.084668</td>\n",
       "      <td>0.085372</td>\n",
       "    </tr>\n",
       "    <tr>\n",
       "      <th>max</th>\n",
       "      <td>1.000000</td>\n",
       "      <td>1.000000</td>\n",
       "      <td>1.000000</td>\n",
       "      <td>1.000000</td>\n",
       "      <td>1.000000</td>\n",
       "      <td>1.000000</td>\n",
       "      <td>1.000000</td>\n",
       "    </tr>\n",
       "  </tbody>\n",
       "</table>\n",
       "</div>"
      ],
      "text/plain": [
       "              year  overall_pick      to_year  games_played        goals  \\\n",
       "count  3934.000000   3934.000000  3934.000000   3934.000000  3934.000000   \n",
       "mean      0.548065      0.285663     0.662598      0.168719     0.063648   \n",
       "std       0.241833      0.235094     0.270746      0.193511     0.118556   \n",
       "min       0.000000      0.000000     0.000000      0.000000     0.000000   \n",
       "25%       0.344828      0.089965     0.452830      0.013498     0.000000   \n",
       "50%       0.551724      0.221453     0.698113      0.083240     0.011538   \n",
       "75%       0.758621      0.435986     0.919811      0.290636     0.069231   \n",
       "max       1.000000      1.000000     1.000000      1.000000     1.000000   \n",
       "\n",
       "           assists       points  \n",
       "count  3934.000000  3934.000000  \n",
       "mean      0.066781     0.069263  \n",
       "std       0.114890     0.119871  \n",
       "min       0.000000     0.000000  \n",
       "25%       0.001601     0.001562  \n",
       "50%       0.014412     0.014576  \n",
       "75%       0.084668     0.085372  \n",
       "max       1.000000     1.000000  "
      ]
     },
     "execution_count": 41,
     "metadata": {},
     "output_type": "execute_result"
    }
   ],
   "source": [
    "#Масштабирование данных\n",
    "scaler = MinMaxScaler().fit(X_train)\n",
    "X_train = pd.DataFrame(scaler.transform(X_train), columns = X_train.columns)\n",
    "X_test = pd.DataFrame(scaler.transform(X_test), columns = X_train.columns)\n",
    "X_train.describe()"
   ]
  },
  {
   "cell_type": "code",
   "execution_count": 42,
   "id": "9db77e98",
   "metadata": {},
   "outputs": [],
   "source": [
    "def test_model(model):\n",
    "    print(\"mean_absolute_error:\",\n",
    "          mean_absolute_error(y_test, model.predict(X_test)))\n",
    "    print(\"mean_squared_error:\",\n",
    "          mean_squared_error(y_test, model.predict(X_test)))\n",
    "    print(\"median_absolute_error:\",\n",
    "          median_absolute_error(y_test, model.predict(X_test)))\n",
    "    print(\"r2_score:\",\n",
    "          r2_score(y_test, model.predict(X_test)))"
   ]
  },
  {
   "cell_type": "code",
   "execution_count": 43,
   "id": "65cb9305",
   "metadata": {},
   "outputs": [
    {
     "data": {
      "text/html": [
       "<style>#sk-container-id-1 {color: black;background-color: white;}#sk-container-id-1 pre{padding: 0;}#sk-container-id-1 div.sk-toggleable {background-color: white;}#sk-container-id-1 label.sk-toggleable__label {cursor: pointer;display: block;width: 100%;margin-bottom: 0;padding: 0.3em;box-sizing: border-box;text-align: center;}#sk-container-id-1 label.sk-toggleable__label-arrow:before {content: \"▸\";float: left;margin-right: 0.25em;color: #696969;}#sk-container-id-1 label.sk-toggleable__label-arrow:hover:before {color: black;}#sk-container-id-1 div.sk-estimator:hover label.sk-toggleable__label-arrow:before {color: black;}#sk-container-id-1 div.sk-toggleable__content {max-height: 0;max-width: 0;overflow: hidden;text-align: left;background-color: #f0f8ff;}#sk-container-id-1 div.sk-toggleable__content pre {margin: 0.2em;color: black;border-radius: 0.25em;background-color: #f0f8ff;}#sk-container-id-1 input.sk-toggleable__control:checked~div.sk-toggleable__content {max-height: 200px;max-width: 100%;overflow: auto;}#sk-container-id-1 input.sk-toggleable__control:checked~label.sk-toggleable__label-arrow:before {content: \"▾\";}#sk-container-id-1 div.sk-estimator input.sk-toggleable__control:checked~label.sk-toggleable__label {background-color: #d4ebff;}#sk-container-id-1 div.sk-label input.sk-toggleable__control:checked~label.sk-toggleable__label {background-color: #d4ebff;}#sk-container-id-1 input.sk-hidden--visually {border: 0;clip: rect(1px 1px 1px 1px);clip: rect(1px, 1px, 1px, 1px);height: 1px;margin: -1px;overflow: hidden;padding: 0;position: absolute;width: 1px;}#sk-container-id-1 div.sk-estimator {font-family: monospace;background-color: #f0f8ff;border: 1px dotted black;border-radius: 0.25em;box-sizing: border-box;margin-bottom: 0.5em;}#sk-container-id-1 div.sk-estimator:hover {background-color: #d4ebff;}#sk-container-id-1 div.sk-parallel-item::after {content: \"\";width: 100%;border-bottom: 1px solid gray;flex-grow: 1;}#sk-container-id-1 div.sk-label:hover label.sk-toggleable__label {background-color: #d4ebff;}#sk-container-id-1 div.sk-serial::before {content: \"\";position: absolute;border-left: 1px solid gray;box-sizing: border-box;top: 0;bottom: 0;left: 50%;z-index: 0;}#sk-container-id-1 div.sk-serial {display: flex;flex-direction: column;align-items: center;background-color: white;padding-right: 0.2em;padding-left: 0.2em;position: relative;}#sk-container-id-1 div.sk-item {position: relative;z-index: 1;}#sk-container-id-1 div.sk-parallel {display: flex;align-items: stretch;justify-content: center;background-color: white;position: relative;}#sk-container-id-1 div.sk-item::before, #sk-container-id-1 div.sk-parallel-item::before {content: \"\";position: absolute;border-left: 1px solid gray;box-sizing: border-box;top: 0;bottom: 0;left: 50%;z-index: -1;}#sk-container-id-1 div.sk-parallel-item {display: flex;flex-direction: column;z-index: 1;position: relative;background-color: white;}#sk-container-id-1 div.sk-parallel-item:first-child::after {align-self: flex-end;width: 50%;}#sk-container-id-1 div.sk-parallel-item:last-child::after {align-self: flex-start;width: 50%;}#sk-container-id-1 div.sk-parallel-item:only-child::after {width: 0;}#sk-container-id-1 div.sk-dashed-wrapped {border: 1px dashed gray;margin: 0 0.4em 0.5em 0.4em;box-sizing: border-box;padding-bottom: 0.4em;background-color: white;}#sk-container-id-1 div.sk-label label {font-family: monospace;font-weight: bold;display: inline-block;line-height: 1.2em;}#sk-container-id-1 div.sk-label-container {text-align: center;}#sk-container-id-1 div.sk-container {/* jupyter's `normalize.less` sets `[hidden] { display: none; }` but bootstrap.min.css set `[hidden] { display: none !important; }` so we also need the `!important` here to be able to override the default hidden behavior on the sphinx rendered scikit-learn.org. See: https://github.com/scikit-learn/scikit-learn/issues/21755 */display: inline-block !important;position: relative;}#sk-container-id-1 div.sk-text-repr-fallback {display: none;}</style><div id=\"sk-container-id-1\" class=\"sk-top-container\"><div class=\"sk-text-repr-fallback\"><pre>KNeighborsRegressor(n_neighbors=10)</pre><b>In a Jupyter environment, please rerun this cell to show the HTML representation or trust the notebook. <br />On GitHub, the HTML representation is unable to render, please try loading this page with nbviewer.org.</b></div><div class=\"sk-container\" hidden><div class=\"sk-item\"><div class=\"sk-estimator sk-toggleable\"><input class=\"sk-toggleable__control sk-hidden--visually\" id=\"sk-estimator-id-1\" type=\"checkbox\" checked><label for=\"sk-estimator-id-1\" class=\"sk-toggleable__label sk-toggleable__label-arrow\">KNeighborsRegressor</label><div class=\"sk-toggleable__content\"><pre>KNeighborsRegressor(n_neighbors=10)</pre></div></div></div></div></div>"
      ],
      "text/plain": [
       "KNeighborsRegressor(n_neighbors=10)"
      ]
     },
     "execution_count": 43,
     "metadata": {},
     "output_type": "execute_result"
    }
   ],
   "source": [
    "reg_10 = KNeighborsRegressor(n_neighbors=10)\n",
    "reg_10.fit(X_train, y_train)"
   ]
  },
  {
   "cell_type": "code",
   "execution_count": 44,
   "id": "3305fb90",
   "metadata": {},
   "outputs": [
    {
     "name": "stdout",
     "output_type": "stream",
     "text": [
      "mean_absolute_error: 0.6873475609756099\n",
      "mean_squared_error: 1.8439634146341466\n",
      "median_absolute_error: 0.3999999999999986\n",
      "r2_score: 0.26196306810453207\n"
     ]
    }
   ],
   "source": [
    "test_model(reg_10)"
   ]
  },
  {
   "cell_type": "code",
   "execution_count": 45,
   "id": "8cc0886a",
   "metadata": {},
   "outputs": [],
   "source": [
    "def test_model(model):\n",
    "    print(\"mean_absolute_error:\",\n",
    "          mean_absolute_error(y_test, model.predict(X_test)))\n",
    "    print(\"mean_squared_error:\",\n",
    "          mean_squared_error(y_test, model.predict(X_test)))\n",
    "    print(\"median_absolute_error:\",\n",
    "          median_absolute_error(y_test, model.predict(X_test)))\n",
    "    print(\"r2_score:\",\n",
    "          r2_score(y_test, model.predict(X_test)))"
   ]
  },
  {
   "cell_type": "code",
   "execution_count": 46,
   "id": "dc80b8dc",
   "metadata": {},
   "outputs": [
    {
     "data": {
      "text/html": [
       "<style>#sk-container-id-2 {color: black;background-color: white;}#sk-container-id-2 pre{padding: 0;}#sk-container-id-2 div.sk-toggleable {background-color: white;}#sk-container-id-2 label.sk-toggleable__label {cursor: pointer;display: block;width: 100%;margin-bottom: 0;padding: 0.3em;box-sizing: border-box;text-align: center;}#sk-container-id-2 label.sk-toggleable__label-arrow:before {content: \"▸\";float: left;margin-right: 0.25em;color: #696969;}#sk-container-id-2 label.sk-toggleable__label-arrow:hover:before {color: black;}#sk-container-id-2 div.sk-estimator:hover label.sk-toggleable__label-arrow:before {color: black;}#sk-container-id-2 div.sk-toggleable__content {max-height: 0;max-width: 0;overflow: hidden;text-align: left;background-color: #f0f8ff;}#sk-container-id-2 div.sk-toggleable__content pre {margin: 0.2em;color: black;border-radius: 0.25em;background-color: #f0f8ff;}#sk-container-id-2 input.sk-toggleable__control:checked~div.sk-toggleable__content {max-height: 200px;max-width: 100%;overflow: auto;}#sk-container-id-2 input.sk-toggleable__control:checked~label.sk-toggleable__label-arrow:before {content: \"▾\";}#sk-container-id-2 div.sk-estimator input.sk-toggleable__control:checked~label.sk-toggleable__label {background-color: #d4ebff;}#sk-container-id-2 div.sk-label input.sk-toggleable__control:checked~label.sk-toggleable__label {background-color: #d4ebff;}#sk-container-id-2 input.sk-hidden--visually {border: 0;clip: rect(1px 1px 1px 1px);clip: rect(1px, 1px, 1px, 1px);height: 1px;margin: -1px;overflow: hidden;padding: 0;position: absolute;width: 1px;}#sk-container-id-2 div.sk-estimator {font-family: monospace;background-color: #f0f8ff;border: 1px dotted black;border-radius: 0.25em;box-sizing: border-box;margin-bottom: 0.5em;}#sk-container-id-2 div.sk-estimator:hover {background-color: #d4ebff;}#sk-container-id-2 div.sk-parallel-item::after {content: \"\";width: 100%;border-bottom: 1px solid gray;flex-grow: 1;}#sk-container-id-2 div.sk-label:hover label.sk-toggleable__label {background-color: #d4ebff;}#sk-container-id-2 div.sk-serial::before {content: \"\";position: absolute;border-left: 1px solid gray;box-sizing: border-box;top: 0;bottom: 0;left: 50%;z-index: 0;}#sk-container-id-2 div.sk-serial {display: flex;flex-direction: column;align-items: center;background-color: white;padding-right: 0.2em;padding-left: 0.2em;position: relative;}#sk-container-id-2 div.sk-item {position: relative;z-index: 1;}#sk-container-id-2 div.sk-parallel {display: flex;align-items: stretch;justify-content: center;background-color: white;position: relative;}#sk-container-id-2 div.sk-item::before, #sk-container-id-2 div.sk-parallel-item::before {content: \"\";position: absolute;border-left: 1px solid gray;box-sizing: border-box;top: 0;bottom: 0;left: 50%;z-index: -1;}#sk-container-id-2 div.sk-parallel-item {display: flex;flex-direction: column;z-index: 1;position: relative;background-color: white;}#sk-container-id-2 div.sk-parallel-item:first-child::after {align-self: flex-end;width: 50%;}#sk-container-id-2 div.sk-parallel-item:last-child::after {align-self: flex-start;width: 50%;}#sk-container-id-2 div.sk-parallel-item:only-child::after {width: 0;}#sk-container-id-2 div.sk-dashed-wrapped {border: 1px dashed gray;margin: 0 0.4em 0.5em 0.4em;box-sizing: border-box;padding-bottom: 0.4em;background-color: white;}#sk-container-id-2 div.sk-label label {font-family: monospace;font-weight: bold;display: inline-block;line-height: 1.2em;}#sk-container-id-2 div.sk-label-container {text-align: center;}#sk-container-id-2 div.sk-container {/* jupyter's `normalize.less` sets `[hidden] { display: none; }` but bootstrap.min.css set `[hidden] { display: none !important; }` so we also need the `!important` here to be able to override the default hidden behavior on the sphinx rendered scikit-learn.org. See: https://github.com/scikit-learn/scikit-learn/issues/21755 */display: inline-block !important;position: relative;}#sk-container-id-2 div.sk-text-repr-fallback {display: none;}</style><div id=\"sk-container-id-2\" class=\"sk-top-container\"><div class=\"sk-text-repr-fallback\"><pre>KNeighborsRegressor(n_neighbors=100)</pre><b>In a Jupyter environment, please rerun this cell to show the HTML representation or trust the notebook. <br />On GitHub, the HTML representation is unable to render, please try loading this page with nbviewer.org.</b></div><div class=\"sk-container\" hidden><div class=\"sk-item\"><div class=\"sk-estimator sk-toggleable\"><input class=\"sk-toggleable__control sk-hidden--visually\" id=\"sk-estimator-id-2\" type=\"checkbox\" checked><label for=\"sk-estimator-id-2\" class=\"sk-toggleable__label sk-toggleable__label-arrow\">KNeighborsRegressor</label><div class=\"sk-toggleable__content\"><pre>KNeighborsRegressor(n_neighbors=100)</pre></div></div></div></div></div>"
      ],
      "text/plain": [
       "KNeighborsRegressor(n_neighbors=100)"
      ]
     },
     "execution_count": 46,
     "metadata": {},
     "output_type": "execute_result"
    }
   ],
   "source": [
    "reg_10 = KNeighborsRegressor(n_neighbors=100)\n",
    "reg_10.fit(X_train, y_train)"
   ]
  },
  {
   "cell_type": "code",
   "execution_count": 47,
   "id": "ac203c16",
   "metadata": {},
   "outputs": [
    {
     "name": "stdout",
     "output_type": "stream",
     "text": [
      "mean_absolute_error: 0.7529496951219512\n",
      "mean_squared_error: 2.0331194359756095\n",
      "median_absolute_error: 0.46000000000000085\n",
      "r2_score: 0.1862543373713329\n"
     ]
    }
   ],
   "source": [
    "test_model(reg_10)"
   ]
  },
  {
   "cell_type": "code",
   "execution_count": 48,
   "id": "ca48b509",
   "metadata": {},
   "outputs": [],
   "source": [
    "def test_model(model):\n",
    "    print(\"mean_absolute_error:\",\n",
    "          mean_absolute_error(y_test, model.predict(X_test)))\n",
    "    print(\"mean_squared_error:\",\n",
    "          mean_squared_error(y_test, model.predict(X_test)))\n",
    "    print(\"median_absolute_error:\",\n",
    "          median_absolute_error(y_test, model.predict(X_test)))\n",
    "    print(\"r2_score:\",\n",
    "          r2_score(y_test, model.predict(X_test)))"
   ]
  },
  {
   "cell_type": "code",
   "execution_count": 50,
   "id": "9deaa29d",
   "metadata": {},
   "outputs": [
    {
     "data": {
      "text/html": [
       "<style>#sk-container-id-4 {color: black;background-color: white;}#sk-container-id-4 pre{padding: 0;}#sk-container-id-4 div.sk-toggleable {background-color: white;}#sk-container-id-4 label.sk-toggleable__label {cursor: pointer;display: block;width: 100%;margin-bottom: 0;padding: 0.3em;box-sizing: border-box;text-align: center;}#sk-container-id-4 label.sk-toggleable__label-arrow:before {content: \"▸\";float: left;margin-right: 0.25em;color: #696969;}#sk-container-id-4 label.sk-toggleable__label-arrow:hover:before {color: black;}#sk-container-id-4 div.sk-estimator:hover label.sk-toggleable__label-arrow:before {color: black;}#sk-container-id-4 div.sk-toggleable__content {max-height: 0;max-width: 0;overflow: hidden;text-align: left;background-color: #f0f8ff;}#sk-container-id-4 div.sk-toggleable__content pre {margin: 0.2em;color: black;border-radius: 0.25em;background-color: #f0f8ff;}#sk-container-id-4 input.sk-toggleable__control:checked~div.sk-toggleable__content {max-height: 200px;max-width: 100%;overflow: auto;}#sk-container-id-4 input.sk-toggleable__control:checked~label.sk-toggleable__label-arrow:before {content: \"▾\";}#sk-container-id-4 div.sk-estimator input.sk-toggleable__control:checked~label.sk-toggleable__label {background-color: #d4ebff;}#sk-container-id-4 div.sk-label input.sk-toggleable__control:checked~label.sk-toggleable__label {background-color: #d4ebff;}#sk-container-id-4 input.sk-hidden--visually {border: 0;clip: rect(1px 1px 1px 1px);clip: rect(1px, 1px, 1px, 1px);height: 1px;margin: -1px;overflow: hidden;padding: 0;position: absolute;width: 1px;}#sk-container-id-4 div.sk-estimator {font-family: monospace;background-color: #f0f8ff;border: 1px dotted black;border-radius: 0.25em;box-sizing: border-box;margin-bottom: 0.5em;}#sk-container-id-4 div.sk-estimator:hover {background-color: #d4ebff;}#sk-container-id-4 div.sk-parallel-item::after {content: \"\";width: 100%;border-bottom: 1px solid gray;flex-grow: 1;}#sk-container-id-4 div.sk-label:hover label.sk-toggleable__label {background-color: #d4ebff;}#sk-container-id-4 div.sk-serial::before {content: \"\";position: absolute;border-left: 1px solid gray;box-sizing: border-box;top: 0;bottom: 0;left: 50%;z-index: 0;}#sk-container-id-4 div.sk-serial {display: flex;flex-direction: column;align-items: center;background-color: white;padding-right: 0.2em;padding-left: 0.2em;position: relative;}#sk-container-id-4 div.sk-item {position: relative;z-index: 1;}#sk-container-id-4 div.sk-parallel {display: flex;align-items: stretch;justify-content: center;background-color: white;position: relative;}#sk-container-id-4 div.sk-item::before, #sk-container-id-4 div.sk-parallel-item::before {content: \"\";position: absolute;border-left: 1px solid gray;box-sizing: border-box;top: 0;bottom: 0;left: 50%;z-index: -1;}#sk-container-id-4 div.sk-parallel-item {display: flex;flex-direction: column;z-index: 1;position: relative;background-color: white;}#sk-container-id-4 div.sk-parallel-item:first-child::after {align-self: flex-end;width: 50%;}#sk-container-id-4 div.sk-parallel-item:last-child::after {align-self: flex-start;width: 50%;}#sk-container-id-4 div.sk-parallel-item:only-child::after {width: 0;}#sk-container-id-4 div.sk-dashed-wrapped {border: 1px dashed gray;margin: 0 0.4em 0.5em 0.4em;box-sizing: border-box;padding-bottom: 0.4em;background-color: white;}#sk-container-id-4 div.sk-label label {font-family: monospace;font-weight: bold;display: inline-block;line-height: 1.2em;}#sk-container-id-4 div.sk-label-container {text-align: center;}#sk-container-id-4 div.sk-container {/* jupyter's `normalize.less` sets `[hidden] { display: none; }` but bootstrap.min.css set `[hidden] { display: none !important; }` so we also need the `!important` here to be able to override the default hidden behavior on the sphinx rendered scikit-learn.org. See: https://github.com/scikit-learn/scikit-learn/issues/21755 */display: inline-block !important;position: relative;}#sk-container-id-4 div.sk-text-repr-fallback {display: none;}</style><div id=\"sk-container-id-4\" class=\"sk-top-container\"><div class=\"sk-text-repr-fallback\"><pre>KNeighborsRegressor(n_neighbors=6)</pre><b>In a Jupyter environment, please rerun this cell to show the HTML representation or trust the notebook. <br />On GitHub, the HTML representation is unable to render, please try loading this page with nbviewer.org.</b></div><div class=\"sk-container\" hidden><div class=\"sk-item\"><div class=\"sk-estimator sk-toggleable\"><input class=\"sk-toggleable__control sk-hidden--visually\" id=\"sk-estimator-id-4\" type=\"checkbox\" checked><label for=\"sk-estimator-id-4\" class=\"sk-toggleable__label sk-toggleable__label-arrow\">KNeighborsRegressor</label><div class=\"sk-toggleable__content\"><pre>KNeighborsRegressor(n_neighbors=6)</pre></div></div></div></div></div>"
      ],
      "text/plain": [
       "KNeighborsRegressor(n_neighbors=6)"
      ]
     },
     "execution_count": 50,
     "metadata": {},
     "output_type": "execute_result"
    }
   ],
   "source": [
    "reg_10 = KNeighborsRegressor(n_neighbors=6)\n",
    "reg_10.fit(X_train, y_train)"
   ]
  },
  {
   "cell_type": "code",
   "execution_count": 51,
   "id": "e3d87dfa",
   "metadata": {},
   "outputs": [
    {
     "name": "stdout",
     "output_type": "stream",
     "text": [
      "mean_absolute_error: 0.6814024390243902\n",
      "mean_squared_error: 1.7940802845528454\n",
      "median_absolute_error: 0.33333333333333215\n",
      "r2_score: 0.28192853595837797\n"
     ]
    }
   ],
   "source": [
    "test_model(reg_10)"
   ]
  },
  {
   "cell_type": "code",
   "execution_count": null,
   "id": "337f727a",
   "metadata": {},
   "outputs": [],
   "source": []
  }
 ],
 "metadata": {
  "kernelspec": {
   "display_name": "Python 3 (ipykernel)",
   "language": "python",
   "name": "python3"
  },
  "language_info": {
   "codemirror_mode": {
    "name": "ipython",
    "version": 3
   },
   "file_extension": ".py",
   "mimetype": "text/x-python",
   "name": "python",
   "nbconvert_exporter": "python",
   "pygments_lexer": "ipython3",
   "version": "3.10.7"
  }
 },
 "nbformat": 4,
 "nbformat_minor": 5
}
