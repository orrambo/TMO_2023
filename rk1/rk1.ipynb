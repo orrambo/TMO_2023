{
 "cells": [
  {
   "cell_type": "markdown",
   "id": "7498cc2a",
   "metadata": {},
   "source": [
    "# РК №1\n",
    "## Милевич Артём Андреевич ИУ5-62Б (Вариант 13)"
   ]
  },
  {
   "cell_type": "markdown",
   "id": "d03b733e",
   "metadata": {},
   "source": [
    "Задача №2.\n",
    "Для заданного набора данных проведите обработку пропусков в данных для одного категориального и одного количественного признака. Какие способы обработки пропусков в данных для категориальных и количественных признаков Вы использовали? Какие признаки Вы будете использовать для дальнейшего построения моделей машинного обучения и почему?\n",
    "\n",
    "Данные: https://www.kaggle.com/mohansacharya/graduate-admissions (файл Admission_Predict.csv)"
   ]
  },
  {
   "cell_type": "code",
   "execution_count": 1,
   "id": "4c5a5607",
   "metadata": {},
   "outputs": [],
   "source": [
    "import numpy as np\n",
    "import pandas as pd\n",
    "import matplotlib.pyplot as plt\n",
    "import math\n",
    "import seaborn as sns\n",
    "import scipy\n",
    "import plotly\n",
    "import missingno as msno\n",
    "from numpy import nan \n",
    "import random\n",
    "from sklearn.impute import SimpleImputer\n",
    "from sklearn.impute import MissingIndicator"
   ]
  },
  {
   "cell_type": "markdown",
   "id": "dd1b40eb",
   "metadata": {},
   "source": [
    "### Загрузим датасет и выведем информацию о нем."
   ]
  },
  {
   "cell_type": "code",
   "execution_count": 2,
   "id": "2a4f0cfe",
   "metadata": {},
   "outputs": [],
   "source": [
    "df = pd.read_csv('Admission_Predict.csv')"
   ]
  },
  {
   "cell_type": "code",
   "execution_count": 3,
   "id": "e4f53dec",
   "metadata": {},
   "outputs": [
    {
     "data": {
      "text/html": [
       "<div>\n",
       "<style scoped>\n",
       "    .dataframe tbody tr th:only-of-type {\n",
       "        vertical-align: middle;\n",
       "    }\n",
       "\n",
       "    .dataframe tbody tr th {\n",
       "        vertical-align: top;\n",
       "    }\n",
       "\n",
       "    .dataframe thead th {\n",
       "        text-align: right;\n",
       "    }\n",
       "</style>\n",
       "<table border=\"1\" class=\"dataframe\">\n",
       "  <thead>\n",
       "    <tr style=\"text-align: right;\">\n",
       "      <th></th>\n",
       "      <th>Serial No.</th>\n",
       "      <th>GRE Score</th>\n",
       "      <th>TOEFL Score</th>\n",
       "      <th>University Rating</th>\n",
       "      <th>SOP</th>\n",
       "      <th>LOR</th>\n",
       "      <th>CGPA</th>\n",
       "      <th>Research</th>\n",
       "      <th>Chance of Admit</th>\n",
       "    </tr>\n",
       "  </thead>\n",
       "  <tbody>\n",
       "    <tr>\n",
       "      <th>0</th>\n",
       "      <td>1</td>\n",
       "      <td>337</td>\n",
       "      <td>118</td>\n",
       "      <td>4</td>\n",
       "      <td>4.5</td>\n",
       "      <td>4.5</td>\n",
       "      <td>9.65</td>\n",
       "      <td>1</td>\n",
       "      <td>0.92</td>\n",
       "    </tr>\n",
       "    <tr>\n",
       "      <th>1</th>\n",
       "      <td>2</td>\n",
       "      <td>324</td>\n",
       "      <td>107</td>\n",
       "      <td>4</td>\n",
       "      <td>4.0</td>\n",
       "      <td>4.5</td>\n",
       "      <td>8.87</td>\n",
       "      <td>1</td>\n",
       "      <td>0.76</td>\n",
       "    </tr>\n",
       "    <tr>\n",
       "      <th>2</th>\n",
       "      <td>3</td>\n",
       "      <td>316</td>\n",
       "      <td>104</td>\n",
       "      <td>3</td>\n",
       "      <td>3.0</td>\n",
       "      <td>3.5</td>\n",
       "      <td>8.00</td>\n",
       "      <td>1</td>\n",
       "      <td>0.72</td>\n",
       "    </tr>\n",
       "    <tr>\n",
       "      <th>3</th>\n",
       "      <td>4</td>\n",
       "      <td>322</td>\n",
       "      <td>110</td>\n",
       "      <td>3</td>\n",
       "      <td>3.5</td>\n",
       "      <td>2.5</td>\n",
       "      <td>8.67</td>\n",
       "      <td>1</td>\n",
       "      <td>0.80</td>\n",
       "    </tr>\n",
       "    <tr>\n",
       "      <th>4</th>\n",
       "      <td>5</td>\n",
       "      <td>314</td>\n",
       "      <td>103</td>\n",
       "      <td>2</td>\n",
       "      <td>2.0</td>\n",
       "      <td>3.0</td>\n",
       "      <td>8.21</td>\n",
       "      <td>0</td>\n",
       "      <td>0.65</td>\n",
       "    </tr>\n",
       "  </tbody>\n",
       "</table>\n",
       "</div>"
      ],
      "text/plain": [
       "   Serial No.  GRE Score  TOEFL Score  University Rating  SOP  LOR   CGPA   \n",
       "0           1        337          118                  4  4.5   4.5  9.65  \\\n",
       "1           2        324          107                  4  4.0   4.5  8.87   \n",
       "2           3        316          104                  3  3.0   3.5  8.00   \n",
       "3           4        322          110                  3  3.5   2.5  8.67   \n",
       "4           5        314          103                  2  2.0   3.0  8.21   \n",
       "\n",
       "   Research  Chance of Admit   \n",
       "0         1              0.92  \n",
       "1         1              0.76  \n",
       "2         1              0.72  \n",
       "3         1              0.80  \n",
       "4         0              0.65  "
      ]
     },
     "execution_count": 3,
     "metadata": {},
     "output_type": "execute_result"
    }
   ],
   "source": [
    "df.head(5)"
   ]
  },
  {
   "cell_type": "code",
   "execution_count": 4,
   "id": "6fed9013",
   "metadata": {},
   "outputs": [
    {
     "name": "stdout",
     "output_type": "stream",
     "text": [
      "<class 'pandas.core.frame.DataFrame'>\n",
      "RangeIndex: 400 entries, 0 to 399\n",
      "Data columns (total 9 columns):\n",
      " #   Column             Non-Null Count  Dtype  \n",
      "---  ------             --------------  -----  \n",
      " 0   Serial No.         400 non-null    int64  \n",
      " 1   GRE Score          400 non-null    int64  \n",
      " 2   TOEFL Score        400 non-null    int64  \n",
      " 3   University Rating  400 non-null    int64  \n",
      " 4   SOP                400 non-null    float64\n",
      " 5   LOR                400 non-null    float64\n",
      " 6   CGPA               400 non-null    float64\n",
      " 7   Research           400 non-null    int64  \n",
      " 8   Chance of Admit    400 non-null    float64\n",
      "dtypes: float64(4), int64(5)\n",
      "memory usage: 28.2 KB\n"
     ]
    }
   ],
   "source": [
    "df.info()"
   ]
  },
  {
   "cell_type": "markdown",
   "id": "d48eb037",
   "metadata": {},
   "source": [
    "### Подсчитаем количество пропусков по столбцам."
   ]
  },
  {
   "cell_type": "code",
   "execution_count": 5,
   "id": "c13b59e3",
   "metadata": {},
   "outputs": [
    {
     "data": {
      "text/plain": [
       "Serial No.           0\n",
       "GRE Score            0\n",
       "TOEFL Score          0\n",
       "University Rating    0\n",
       "SOP                  0\n",
       "LOR                  0\n",
       "CGPA                 0\n",
       "Research             0\n",
       "Chance of Admit      0\n",
       "dtype: int64"
      ]
     },
     "execution_count": 5,
     "metadata": {},
     "output_type": "execute_result"
    }
   ],
   "source": [
    "df.isna().sum()"
   ]
  },
  {
   "cell_type": "markdown",
   "id": "3682a78d",
   "metadata": {},
   "source": [
    "### В датасете отсутствуют пропуски.\n",
    "Добавим вручную по 5% пропусков в количественный и категориальный признак соответственно. В качестве количественного выберем столбец 'GRE Score', а в качестве категориального 'University Rating', который принимает значения в диапазоне [1, 5]."
   ]
  },
  {
   "cell_type": "code",
   "execution_count": 6,
   "id": "549b6db3",
   "metadata": {},
   "outputs": [
    {
     "data": {
      "text/plain": [
       "array([4, 3, 2, 5, 1], dtype=int64)"
      ]
     },
     "execution_count": 6,
     "metadata": {},
     "output_type": "execute_result"
    }
   ],
   "source": [
    "df['University Rating'].unique()"
   ]
  },
  {
   "cell_type": "code",
   "execution_count": 7,
   "id": "14b83874",
   "metadata": {},
   "outputs": [],
   "source": [
    "rnd_nums = random.sample(range(df.shape[0]), int(df.shape[0]*0.05))\n",
    "for i in range (len(rnd_nums)):\n",
    "    df.loc[df['Serial No.'] == rnd_nums[i], 'University Rating'] = nan"
   ]
  },
  {
   "cell_type": "code",
   "execution_count": 8,
   "id": "479dca4b",
   "metadata": {},
   "outputs": [],
   "source": [
    "rnd_nums = random.sample(range(df.shape[0]), int(df.shape[0]*0.05))\n",
    "for i in range (len(rnd_nums)):\n",
    "    df.loc[df['Serial No.'] == rnd_nums[i], 'GRE Score'] = nan"
   ]
  },
  {
   "cell_type": "code",
   "execution_count": 9,
   "id": "72230d05",
   "metadata": {},
   "outputs": [
    {
     "data": {
      "text/html": [
       "<div>\n",
       "<style scoped>\n",
       "    .dataframe tbody tr th:only-of-type {\n",
       "        vertical-align: middle;\n",
       "    }\n",
       "\n",
       "    .dataframe tbody tr th {\n",
       "        vertical-align: top;\n",
       "    }\n",
       "\n",
       "    .dataframe thead th {\n",
       "        text-align: right;\n",
       "    }\n",
       "</style>\n",
       "<table border=\"1\" class=\"dataframe\">\n",
       "  <thead>\n",
       "    <tr style=\"text-align: right;\">\n",
       "      <th></th>\n",
       "      <th>Serial No.</th>\n",
       "      <th>GRE Score</th>\n",
       "      <th>TOEFL Score</th>\n",
       "      <th>University Rating</th>\n",
       "      <th>SOP</th>\n",
       "      <th>LOR</th>\n",
       "      <th>CGPA</th>\n",
       "      <th>Research</th>\n",
       "      <th>Chance of Admit</th>\n",
       "    </tr>\n",
       "  </thead>\n",
       "  <tbody>\n",
       "    <tr>\n",
       "      <th>0</th>\n",
       "      <td>1</td>\n",
       "      <td>337.0</td>\n",
       "      <td>118</td>\n",
       "      <td>4.0</td>\n",
       "      <td>4.5</td>\n",
       "      <td>4.5</td>\n",
       "      <td>9.65</td>\n",
       "      <td>1</td>\n",
       "      <td>0.92</td>\n",
       "    </tr>\n",
       "    <tr>\n",
       "      <th>1</th>\n",
       "      <td>2</td>\n",
       "      <td>324.0</td>\n",
       "      <td>107</td>\n",
       "      <td>4.0</td>\n",
       "      <td>4.0</td>\n",
       "      <td>4.5</td>\n",
       "      <td>8.87</td>\n",
       "      <td>1</td>\n",
       "      <td>0.76</td>\n",
       "    </tr>\n",
       "    <tr>\n",
       "      <th>2</th>\n",
       "      <td>3</td>\n",
       "      <td>316.0</td>\n",
       "      <td>104</td>\n",
       "      <td>3.0</td>\n",
       "      <td>3.0</td>\n",
       "      <td>3.5</td>\n",
       "      <td>8.00</td>\n",
       "      <td>1</td>\n",
       "      <td>0.72</td>\n",
       "    </tr>\n",
       "    <tr>\n",
       "      <th>3</th>\n",
       "      <td>4</td>\n",
       "      <td>322.0</td>\n",
       "      <td>110</td>\n",
       "      <td>3.0</td>\n",
       "      <td>3.5</td>\n",
       "      <td>2.5</td>\n",
       "      <td>8.67</td>\n",
       "      <td>1</td>\n",
       "      <td>0.80</td>\n",
       "    </tr>\n",
       "    <tr>\n",
       "      <th>4</th>\n",
       "      <td>5</td>\n",
       "      <td>314.0</td>\n",
       "      <td>103</td>\n",
       "      <td>2.0</td>\n",
       "      <td>2.0</td>\n",
       "      <td>3.0</td>\n",
       "      <td>8.21</td>\n",
       "      <td>0</td>\n",
       "      <td>0.65</td>\n",
       "    </tr>\n",
       "  </tbody>\n",
       "</table>\n",
       "</div>"
      ],
      "text/plain": [
       "   Serial No.  GRE Score  TOEFL Score  University Rating  SOP  LOR   CGPA   \n",
       "0           1      337.0          118                4.0  4.5   4.5  9.65  \\\n",
       "1           2      324.0          107                4.0  4.0   4.5  8.87   \n",
       "2           3      316.0          104                3.0  3.0   3.5  8.00   \n",
       "3           4      322.0          110                3.0  3.5   2.5  8.67   \n",
       "4           5      314.0          103                2.0  2.0   3.0  8.21   \n",
       "\n",
       "   Research  Chance of Admit   \n",
       "0         1              0.92  \n",
       "1         1              0.76  \n",
       "2         1              0.72  \n",
       "3         1              0.80  \n",
       "4         0              0.65  "
      ]
     },
     "execution_count": 9,
     "metadata": {},
     "output_type": "execute_result"
    }
   ],
   "source": [
    "df.head()"
   ]
  },
  {
   "cell_type": "code",
   "execution_count": 10,
   "id": "d95ab1ba",
   "metadata": {},
   "outputs": [
    {
     "name": "stdout",
     "output_type": "stream",
     "text": [
      "Serial No. - 0.0%\n",
      "GRE Score - 5.0%\n",
      "TOEFL Score - 0.0%\n",
      "University Rating - 5.0%\n",
      "SOP - 0.0%\n",
      "LOR  - 0.0%\n",
      "CGPA - 0.0%\n",
      "Research - 0.0%\n",
      "Chance of Admit  - 0.0%\n"
     ]
    }
   ],
   "source": [
    "for col in df.columns:\n",
    "    pct_missing = np.mean(df[col].isnull())\n",
    "    print('{} - {}%'.format(col, round(pct_missing*100, 2)))"
   ]
  },
  {
   "cell_type": "markdown",
   "id": "95f3c378",
   "metadata": {},
   "source": [
    "### Заполнение пропусков.\n",
    "Если произвести удаление строк с пропусками, то в данном случае это приведёт к резкому сокращению датасета и последующему ухудшению качества модели. Поэтому проведём импьютацию, т.е. заполним пропуски некоторыми значениями.\n",
    "\n",
    "Сначала возьмем столбец количественного признака и построим гистограмму распределения его значений."
   ]
  },
  {
   "cell_type": "code",
   "execution_count": 11,
   "id": "b1bd75ae",
   "metadata": {},
   "outputs": [
    {
     "data": {
      "text/plain": [
       "<Axes: ylabel='Frequency'>"
      ]
     },
     "execution_count": 11,
     "metadata": {},
     "output_type": "execute_result"
    },
    {
     "data": {
      "image/png": "[encoded data removed]",
      "text/plain": [
       "<Figure size 640x480 with 1 Axes>"
      ]
     },
     "metadata": {},
     "output_type": "display_data"
    }
   ],
   "source": [
    "df['GRE Score'].plot.hist(bins=50)"
   ]
  },
  {
   "cell_type": "markdown",
   "id": "952161d1",
   "metadata": {},
   "source": [
    "Распределение значений походит на нормальное, но имеются очень большие выбросы. Было решено проводить импьютацию по медиане, так как она более устойчива к выбросам."
   ]
  },
  {
   "cell_type": "code",
   "execution_count": 12,
   "id": "9cb3f266",
   "metadata": {},
   "outputs": [],
   "source": [
    "imputer = SimpleImputer(strategy='median', missing_values=nan)\n",
    "imputer = imputer.fit(df[['GRE Score']])\n",
    "df['GRE Score'] = imputer.transform(df[['GRE Score']])"
   ]
  },
  {
   "cell_type": "markdown",
   "id": "f661498e",
   "metadata": {},
   "source": [
    "Построим гистограмму для категориального признака."
   ]
  },
  {
   "cell_type": "code",
   "execution_count": 13,
   "id": "2f1282d2",
   "metadata": {},
   "outputs": [
    {
     "data": {
      "text/plain": [
       "<Axes: ylabel='Frequency'>"
      ]
     },
     "execution_count": 13,
     "metadata": {},
     "output_type": "execute_result"
    },
    {
     "data": {
      "image/png": "[encoded data removed]",
      "text/plain": [
       "<Figure size 640x480 with 1 Axes>"
      ]
     },
     "metadata": {},
     "output_type": "display_data"
    }
   ],
   "source": [
    "df['University Rating'].plot.hist(bins=5)"
   ]
  },
  {
   "cell_type": "markdown",
   "id": "f3e70b53",
   "metadata": {},
   "source": [
    "Если заполнить пропуски наиболее часто встречающимся (most frequent) значением, это сильно повлияет на распределение, что может испортить корреляцию датасета. Поэтому пропущенные значения заменим на отдельную константу \"-1\"."
   ]
  },
  {
   "cell_type": "code",
   "execution_count": 14,
   "id": "bf9224b8",
   "metadata": {},
   "outputs": [],
   "source": [
    "imputer = SimpleImputer(missing_values=nan, strategy='constant', fill_value=-1)\n",
    "imputer = imputer.fit(df[['University Rating']])\n",
    "df['University Rating'] = imputer.transform(df[['University Rating']])"
   ]
  },
  {
   "cell_type": "code",
   "execution_count": 15,
   "id": "db1550f5",
   "metadata": {},
   "outputs": [
    {
     "name": "stdout",
     "output_type": "stream",
     "text": [
      "Serial No. - 0.0%\n",
      "GRE Score - 0.0%\n",
      "TOEFL Score - 0.0%\n",
      "University Rating - 0.0%\n",
      "SOP - 0.0%\n",
      "LOR  - 0.0%\n",
      "CGPA - 0.0%\n",
      "Research - 0.0%\n",
      "Chance of Admit  - 0.0%\n"
     ]
    }
   ],
   "source": [
    "for col in df.columns:\n",
    "    pct_missing = np.mean(df[col].isnull())\n",
    "    print('{} - {}%'.format(col, round(pct_missing*100, 2)))"
   ]
  },
  {
   "cell_type": "markdown",
   "id": "6d90e70b",
   "metadata": {},
   "source": [
    "### Посмотрим на корреляционную матрицу после заполнения пропусков."
   ]
  },
  {
   "cell_type": "code",
   "execution_count": 16,
   "id": "0634d4d9",
   "metadata": {},
   "outputs": [
    {
     "data": {
      "text/html": [
       "<style type=\"text/css\">\n",
       "#T_76445_row0_col0, #T_76445_row1_col1, #T_76445_row2_col2, #T_76445_row3_col3, #T_76445_row4_col4, #T_76445_row5_col5, #T_76445_row6_col6, #T_76445_row7_col7, #T_76445_row8_col8 {\n",
       "  background-color: #b40426;\n",
       "  color: #f1f1f1;\n",
       "}\n",
       "#T_76445_row0_col1, #T_76445_row0_col2, #T_76445_row0_col3, #T_76445_row0_col4, #T_76445_row0_col5, #T_76445_row0_col6, #T_76445_row0_col7, #T_76445_row0_col8, #T_76445_row4_col0 {\n",
       "  background-color: #3b4cc0;\n",
       "  color: #f1f1f1;\n",
       "}\n",
       "#T_76445_row1_col0 {\n",
       "  background-color: #4e68d8;\n",
       "  color: #f1f1f1;\n",
       "}\n",
       "#T_76445_row1_col2 {\n",
       "  background-color: #e46e56;\n",
       "  color: #f1f1f1;\n",
       "}\n",
       "#T_76445_row1_col3, #T_76445_row3_col1, #T_76445_row7_col6 {\n",
       "  background-color: #e7d7ce;\n",
       "  color: #000000;\n",
       "}\n",
       "#T_76445_row1_col4 {\n",
       "  background-color: #f7ba9f;\n",
       "  color: #000000;\n",
       "}\n",
       "#T_76445_row1_col5, #T_76445_row5_col1 {\n",
       "  background-color: #efcebd;\n",
       "  color: #000000;\n",
       "}\n",
       "#T_76445_row1_col6 {\n",
       "  background-color: #e9785d;\n",
       "  color: #f1f1f1;\n",
       "}\n",
       "#T_76445_row1_col7, #T_76445_row4_col3, #T_76445_row8_col3 {\n",
       "  background-color: #f1cdba;\n",
       "  color: #000000;\n",
       "}\n",
       "#T_76445_row1_col8 {\n",
       "  background-color: #f18d6f;\n",
       "  color: #f1f1f1;\n",
       "}\n",
       "#T_76445_row2_col0 {\n",
       "  background-color: #3f53c6;\n",
       "  color: #f1f1f1;\n",
       "}\n",
       "#T_76445_row2_col1 {\n",
       "  background-color: #e67259;\n",
       "  color: #f1f1f1;\n",
       "}\n",
       "#T_76445_row2_col3, #T_76445_row8_col7 {\n",
       "  background-color: #efcfbf;\n",
       "  color: #000000;\n",
       "}\n",
       "#T_76445_row2_col4 {\n",
       "  background-color: #f7aa8c;\n",
       "  color: #000000;\n",
       "}\n",
       "#T_76445_row2_col5, #T_76445_row7_col1 {\n",
       "  background-color: #f2cab5;\n",
       "  color: #000000;\n",
       "}\n",
       "#T_76445_row2_col6, #T_76445_row6_col1 {\n",
       "  background-color: #e7745b;\n",
       "  color: #f1f1f1;\n",
       "}\n",
       "#T_76445_row2_col7 {\n",
       "  background-color: #e2dad5;\n",
       "  color: #000000;\n",
       "}\n",
       "#T_76445_row2_col8 {\n",
       "  background-color: #f08b6e;\n",
       "  color: #f1f1f1;\n",
       "}\n",
       "#T_76445_row3_col0 {\n",
       "  background-color: #4b64d5;\n",
       "  color: #f1f1f1;\n",
       "}\n",
       "#T_76445_row3_col2 {\n",
       "  background-color: #f2cbb7;\n",
       "  color: #000000;\n",
       "}\n",
       "#T_76445_row3_col4, #T_76445_row6_col3 {\n",
       "  background-color: #f3c7b1;\n",
       "  color: #000000;\n",
       "}\n",
       "#T_76445_row3_col5, #T_76445_row7_col8 {\n",
       "  background-color: #e5d8d1;\n",
       "  color: #000000;\n",
       "}\n",
       "#T_76445_row3_col6 {\n",
       "  background-color: #f1ccb8;\n",
       "  color: #000000;\n",
       "}\n",
       "#T_76445_row3_col7 {\n",
       "  background-color: #bed2f6;\n",
       "  color: #000000;\n",
       "}\n",
       "#T_76445_row3_col8 {\n",
       "  background-color: #e4d9d2;\n",
       "  color: #000000;\n",
       "}\n",
       "#T_76445_row4_col1 {\n",
       "  background-color: #f5c1a9;\n",
       "  color: #000000;\n",
       "}\n",
       "#T_76445_row4_col2 {\n",
       "  background-color: #f7ac8e;\n",
       "  color: #000000;\n",
       "}\n",
       "#T_76445_row4_col5 {\n",
       "  background-color: #f4987a;\n",
       "  color: #000000;\n",
       "}\n",
       "#T_76445_row4_col6 {\n",
       "  background-color: #f6a283;\n",
       "  color: #000000;\n",
       "}\n",
       "#T_76445_row4_col7 {\n",
       "  background-color: #d7dce3;\n",
       "  color: #000000;\n",
       "}\n",
       "#T_76445_row4_col8 {\n",
       "  background-color: #f7b99e;\n",
       "  color: #000000;\n",
       "}\n",
       "#T_76445_row5_col0 {\n",
       "  background-color: #4f69d9;\n",
       "  color: #f1f1f1;\n",
       "}\n",
       "#T_76445_row5_col2 {\n",
       "  background-color: #f4c5ad;\n",
       "  color: #000000;\n",
       "}\n",
       "#T_76445_row5_col3 {\n",
       "  background-color: #e6d7cf;\n",
       "  color: #000000;\n",
       "}\n",
       "#T_76445_row5_col4 {\n",
       "  background-color: #f29274;\n",
       "  color: #f1f1f1;\n",
       "}\n",
       "#T_76445_row5_col6 {\n",
       "  background-color: #f7b194;\n",
       "  color: #000000;\n",
       "}\n",
       "#T_76445_row5_col7 {\n",
       "  background-color: #cad8ef;\n",
       "  color: #000000;\n",
       "}\n",
       "#T_76445_row5_col8 {\n",
       "  background-color: #f7bca1;\n",
       "  color: #000000;\n",
       "}\n",
       "#T_76445_row6_col0 {\n",
       "  background-color: #5a78e4;\n",
       "  color: #f1f1f1;\n",
       "}\n",
       "#T_76445_row6_col2 {\n",
       "  background-color: #e36c55;\n",
       "  color: #f1f1f1;\n",
       "}\n",
       "#T_76445_row6_col4 {\n",
       "  background-color: #f39577;\n",
       "  color: #000000;\n",
       "}\n",
       "#T_76445_row6_col5, #T_76445_row8_col5 {\n",
       "  background-color: #f7ad90;\n",
       "  color: #000000;\n",
       "}\n",
       "#T_76445_row6_col7 {\n",
       "  background-color: #e9d5cb;\n",
       "  color: #000000;\n",
       "}\n",
       "#T_76445_row6_col8 {\n",
       "  background-color: #df634e;\n",
       "  color: #f1f1f1;\n",
       "}\n",
       "#T_76445_row7_col0 {\n",
       "  background-color: #5572df;\n",
       "  color: #f1f1f1;\n",
       "}\n",
       "#T_76445_row7_col2 {\n",
       "  background-color: #ead4c8;\n",
       "  color: #000000;\n",
       "}\n",
       "#T_76445_row7_col3 {\n",
       "  background-color: #c4d5f3;\n",
       "  color: #000000;\n",
       "}\n",
       "#T_76445_row7_col4 {\n",
       "  background-color: #e3d9d3;\n",
       "  color: #000000;\n",
       "}\n",
       "#T_76445_row7_col5 {\n",
       "  background-color: #cedaeb;\n",
       "  color: #000000;\n",
       "}\n",
       "#T_76445_row8_col0 {\n",
       "  background-color: #7396f5;\n",
       "  color: #f1f1f1;\n",
       "}\n",
       "#T_76445_row8_col1 {\n",
       "  background-color: #ec8165;\n",
       "  color: #f1f1f1;\n",
       "}\n",
       "#T_76445_row8_col2 {\n",
       "  background-color: #ea7b60;\n",
       "  color: #f1f1f1;\n",
       "}\n",
       "#T_76445_row8_col4 {\n",
       "  background-color: #f6a586;\n",
       "  color: #000000;\n",
       "}\n",
       "#T_76445_row8_col6 {\n",
       "  background-color: #dd5f4b;\n",
       "  color: #f1f1f1;\n",
       "}\n",
       "</style>\n",
       "<table id=\"T_76445\">\n",
       "  <thead>\n",
       "    <tr>\n",
       "      <th class=\"blank level0\" >&nbsp;</th>\n",
       "      <th id=\"T_76445_level0_col0\" class=\"col_heading level0 col0\" >Serial No.</th>\n",
       "      <th id=\"T_76445_level0_col1\" class=\"col_heading level0 col1\" >GRE Score</th>\n",
       "      <th id=\"T_76445_level0_col2\" class=\"col_heading level0 col2\" >TOEFL Score</th>\n",
       "      <th id=\"T_76445_level0_col3\" class=\"col_heading level0 col3\" >University Rating</th>\n",
       "      <th id=\"T_76445_level0_col4\" class=\"col_heading level0 col4\" >SOP</th>\n",
       "      <th id=\"T_76445_level0_col5\" class=\"col_heading level0 col5\" >LOR </th>\n",
       "      <th id=\"T_76445_level0_col6\" class=\"col_heading level0 col6\" >CGPA</th>\n",
       "      <th id=\"T_76445_level0_col7\" class=\"col_heading level0 col7\" >Research</th>\n",
       "      <th id=\"T_76445_level0_col8\" class=\"col_heading level0 col8\" >Chance of Admit </th>\n",
       "    </tr>\n",
       "  </thead>\n",
       "  <tbody>\n",
       "    <tr>\n",
       "      <th id=\"T_76445_level0_row0\" class=\"row_heading level0 row0\" >Serial No.</th>\n",
       "      <td id=\"T_76445_row0_col0\" class=\"data row0 col0\" >1.000000</td>\n",
       "      <td id=\"T_76445_row0_col1\" class=\"data row0 col1\" >-0.089861</td>\n",
       "      <td id=\"T_76445_row0_col2\" class=\"data row0 col2\" >-0.147932</td>\n",
       "      <td id=\"T_76445_row0_col3\" class=\"data row0 col3\" >-0.098897</td>\n",
       "      <td id=\"T_76445_row0_col4\" class=\"data row0 col4\" >-0.166932</td>\n",
       "      <td id=\"T_76445_row0_col5\" class=\"data row0 col5\" >-0.088221</td>\n",
       "      <td id=\"T_76445_row0_col6\" class=\"data row0 col6\" >-0.045608</td>\n",
       "      <td id=\"T_76445_row0_col7\" class=\"data row0 col7\" >-0.063138</td>\n",
       "      <td id=\"T_76445_row0_col8\" class=\"data row0 col8\" >0.042336</td>\n",
       "    </tr>\n",
       "    <tr>\n",
       "      <th id=\"T_76445_level0_row1\" class=\"row_heading level0 row1\" >GRE Score</th>\n",
       "      <td id=\"T_76445_row1_col0\" class=\"data row1 col0\" >-0.089861</td>\n",
       "      <td id=\"T_76445_row1_col1\" class=\"data row1 col1\" >1.000000</td>\n",
       "      <td id=\"T_76445_row1_col2\" class=\"data row1 col2\" >0.823754</td>\n",
       "      <td id=\"T_76445_row1_col3\" class=\"data row1 col3\" >0.497761</td>\n",
       "      <td id=\"T_76445_row1_col4\" class=\"data row1 col4\" >0.601794</td>\n",
       "      <td id=\"T_76445_row1_col5\" class=\"data row1 col5\" >0.547997</td>\n",
       "      <td id=\"T_76445_row1_col6\" class=\"data row1 col6\" >0.819431</td>\n",
       "      <td id=\"T_76445_row1_col7\" class=\"data row1 col7\" >0.565966</td>\n",
       "      <td id=\"T_76445_row1_col8\" class=\"data row1 col8\" >0.790510</td>\n",
       "    </tr>\n",
       "    <tr>\n",
       "      <th id=\"T_76445_level0_row2\" class=\"row_heading level0 row2\" >TOEFL Score</th>\n",
       "      <td id=\"T_76445_row2_col0\" class=\"data row2 col0\" >-0.147932</td>\n",
       "      <td id=\"T_76445_row2_col1\" class=\"data row2 col1\" >0.823754</td>\n",
       "      <td id=\"T_76445_row2_col2\" class=\"data row2 col2\" >1.000000</td>\n",
       "      <td id=\"T_76445_row2_col3\" class=\"data row2 col3\" >0.539678</td>\n",
       "      <td id=\"T_76445_row2_col4\" class=\"data row2 col4\" >0.657981</td>\n",
       "      <td id=\"T_76445_row2_col5\" class=\"data row2 col5\" >0.567721</td>\n",
       "      <td id=\"T_76445_row2_col6\" class=\"data row2 col6\" >0.828417</td>\n",
       "      <td id=\"T_76445_row2_col7\" class=\"data row2 col7\" >0.489858</td>\n",
       "      <td id=\"T_76445_row2_col8\" class=\"data row2 col8\" >0.791594</td>\n",
       "    </tr>\n",
       "    <tr>\n",
       "      <th id=\"T_76445_level0_row3\" class=\"row_heading level0 row3\" >University Rating</th>\n",
       "      <td id=\"T_76445_row3_col0\" class=\"data row3 col0\" >-0.098897</td>\n",
       "      <td id=\"T_76445_row3_col1\" class=\"data row3 col1\" >0.497761</td>\n",
       "      <td id=\"T_76445_row3_col2\" class=\"data row3 col2\" >0.539678</td>\n",
       "      <td id=\"T_76445_row3_col3\" class=\"data row3 col3\" >1.000000</td>\n",
       "      <td id=\"T_76445_row3_col4\" class=\"data row3 col4\" >0.551352</td>\n",
       "      <td id=\"T_76445_row3_col5\" class=\"data row3 col5\" >0.490969</td>\n",
       "      <td id=\"T_76445_row3_col6\" class=\"data row3 col6\" >0.578751</td>\n",
       "      <td id=\"T_76445_row3_col7\" class=\"data row3 col7\" >0.355673</td>\n",
       "      <td id=\"T_76445_row3_col8\" class=\"data row3 col8\" >0.549454</td>\n",
       "    </tr>\n",
       "    <tr>\n",
       "      <th id=\"T_76445_level0_row4\" class=\"row_heading level0 row4\" >SOP</th>\n",
       "      <td id=\"T_76445_row4_col0\" class=\"data row4 col0\" >-0.166932</td>\n",
       "      <td id=\"T_76445_row4_col1\" class=\"data row4 col1\" >0.601794</td>\n",
       "      <td id=\"T_76445_row4_col2\" class=\"data row4 col2\" >0.657981</td>\n",
       "      <td id=\"T_76445_row4_col3\" class=\"data row4 col3\" >0.551352</td>\n",
       "      <td id=\"T_76445_row4_col4\" class=\"data row4 col4\" >1.000000</td>\n",
       "      <td id=\"T_76445_row4_col5\" class=\"data row4 col5\" >0.729593</td>\n",
       "      <td id=\"T_76445_row4_col6\" class=\"data row4 col6\" >0.718144</td>\n",
       "      <td id=\"T_76445_row4_col7\" class=\"data row4 col7\" >0.444029</td>\n",
       "      <td id=\"T_76445_row4_col8\" class=\"data row4 col8\" >0.675732</td>\n",
       "    </tr>\n",
       "    <tr>\n",
       "      <th id=\"T_76445_level0_row5\" class=\"row_heading level0 row5\" >LOR </th>\n",
       "      <td id=\"T_76445_row5_col0\" class=\"data row5 col0\" >-0.088221</td>\n",
       "      <td id=\"T_76445_row5_col1\" class=\"data row5 col1\" >0.547997</td>\n",
       "      <td id=\"T_76445_row5_col2\" class=\"data row5 col2\" >0.567721</td>\n",
       "      <td id=\"T_76445_row5_col3\" class=\"data row5 col3\" >0.490969</td>\n",
       "      <td id=\"T_76445_row5_col4\" class=\"data row5 col4\" >0.729593</td>\n",
       "      <td id=\"T_76445_row5_col5\" class=\"data row5 col5\" >1.000000</td>\n",
       "      <td id=\"T_76445_row5_col6\" class=\"data row5 col6\" >0.670211</td>\n",
       "      <td id=\"T_76445_row5_col7\" class=\"data row5 col7\" >0.396859</td>\n",
       "      <td id=\"T_76445_row5_col8\" class=\"data row5 col8\" >0.669889</td>\n",
       "    </tr>\n",
       "    <tr>\n",
       "      <th id=\"T_76445_level0_row6\" class=\"row_heading level0 row6\" >CGPA</th>\n",
       "      <td id=\"T_76445_row6_col0\" class=\"data row6 col0\" >-0.045608</td>\n",
       "      <td id=\"T_76445_row6_col1\" class=\"data row6 col1\" >0.819431</td>\n",
       "      <td id=\"T_76445_row6_col2\" class=\"data row6 col2\" >0.828417</td>\n",
       "      <td id=\"T_76445_row6_col3\" class=\"data row6 col3\" >0.578751</td>\n",
       "      <td id=\"T_76445_row6_col4\" class=\"data row6 col4\" >0.718144</td>\n",
       "      <td id=\"T_76445_row6_col5\" class=\"data row6 col5\" >0.670211</td>\n",
       "      <td id=\"T_76445_row6_col6\" class=\"data row6 col6\" >1.000000</td>\n",
       "      <td id=\"T_76445_row6_col7\" class=\"data row6 col7\" >0.521654</td>\n",
       "      <td id=\"T_76445_row6_col8\" class=\"data row6 col8\" >0.873289</td>\n",
       "    </tr>\n",
       "    <tr>\n",
       "      <th id=\"T_76445_level0_row7\" class=\"row_heading level0 row7\" >Research</th>\n",
       "      <td id=\"T_76445_row7_col0\" class=\"data row7 col0\" >-0.063138</td>\n",
       "      <td id=\"T_76445_row7_col1\" class=\"data row7 col1\" >0.565966</td>\n",
       "      <td id=\"T_76445_row7_col2\" class=\"data row7 col2\" >0.489858</td>\n",
       "      <td id=\"T_76445_row7_col3\" class=\"data row7 col3\" >0.355673</td>\n",
       "      <td id=\"T_76445_row7_col4\" class=\"data row7 col4\" >0.444029</td>\n",
       "      <td id=\"T_76445_row7_col5\" class=\"data row7 col5\" >0.396859</td>\n",
       "      <td id=\"T_76445_row7_col6\" class=\"data row7 col6\" >0.521654</td>\n",
       "      <td id=\"T_76445_row7_col7\" class=\"data row7 col7\" >1.000000</td>\n",
       "      <td id=\"T_76445_row7_col8\" class=\"data row7 col8\" >0.553202</td>\n",
       "    </tr>\n",
       "    <tr>\n",
       "      <th id=\"T_76445_level0_row8\" class=\"row_heading level0 row8\" >Chance of Admit </th>\n",
       "      <td id=\"T_76445_row8_col0\" class=\"data row8 col0\" >0.042336</td>\n",
       "      <td id=\"T_76445_row8_col1\" class=\"data row8 col1\" >0.790510</td>\n",
       "      <td id=\"T_76445_row8_col2\" class=\"data row8 col2\" >0.791594</td>\n",
       "      <td id=\"T_76445_row8_col3\" class=\"data row8 col3\" >0.549454</td>\n",
       "      <td id=\"T_76445_row8_col4\" class=\"data row8 col4\" >0.675732</td>\n",
       "      <td id=\"T_76445_row8_col5\" class=\"data row8 col5\" >0.669889</td>\n",
       "      <td id=\"T_76445_row8_col6\" class=\"data row8 col6\" >0.873289</td>\n",
       "      <td id=\"T_76445_row8_col7\" class=\"data row8 col7\" >0.553202</td>\n",
       "      <td id=\"T_76445_row8_col8\" class=\"data row8 col8\" >1.000000</td>\n",
       "    </tr>\n",
       "  </tbody>\n",
       "</table>\n"
      ],
      "text/plain": [
       "<pandas.io.formats.style.Styler at 0x19597da7130>"
      ]
     },
     "execution_count": 16,
     "metadata": {},
     "output_type": "execute_result"
    }
   ],
   "source": [
    "corr = df.corr()\n",
    "corr.style.background_gradient(cmap='coolwarm')"
   ]
  },
  {
   "cell_type": "markdown",
   "id": "e11a236b",
   "metadata": {},
   "source": [
    "### Дальнейшее построение модели машинного обучения.\n",
    "Для построения модели можно удалить столбец с серийным номером записи (Serial No.), поскольку его нахождение не имеет никакого смысла, т.к. jupyter сам задает столбец id (без названия). В качестве целевого признака наиболее логично выбрать последний столбец \"Chance of Admit\" (вероятность поступления в университет). Остальные столбцы имеют высокую корреляцию с целевым признаком (Chance of Admit) и их всего 7, поэтому они могут выступать в качестве объектов-признаков. В итоге все столбцы, кроме \"Serial No.\", будут использованы для дальнейшего построения модели."
   ]
  },
  {
   "cell_type": "code",
   "execution_count": null,
   "id": "113aa611",
   "metadata": {},
   "outputs": [],
   "source": []
  }
 ],
 "metadata": {
  "kernelspec": {
   "display_name": "Python 3 (ipykernel)",
   "language": "python",
   "name": "python3"
  },
  "language_info": {
   "codemirror_mode": {
    "name": "ipython",
    "version": 3
   },
   "file_extension": ".py",
   "mimetype": "text/x-python",
   "name": "python",
   "nbconvert_exporter": "python",
   "pygments_lexer": "ipython3",
   "version": "3.9.7"
  }
 },
 "nbformat": 4,
 "nbformat_minor": 5
}
